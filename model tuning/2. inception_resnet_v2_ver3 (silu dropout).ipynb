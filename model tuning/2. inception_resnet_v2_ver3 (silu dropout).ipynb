{
 "cells": [
  {
   "cell_type": "markdown",
   "id": "a2bcba5f-002e-4f49-9622-ada6117faf0a",
   "metadata": {
    "id": "a2bcba5f-002e-4f49-9622-ada6117faf0a"
   },
   "source": [
    "## Import"
   ]
  },
  {
   "cell_type": "code",
   "execution_count": null,
   "id": "2037e2fa",
   "metadata": {},
   "outputs": [],
   "source": [
    "!sudo pip uninstall opencv-python --y"
   ]
  },
  {
   "cell_type": "code",
   "execution_count": null,
   "id": "67ee87cf",
   "metadata": {},
   "outputs": [],
   "source": [
    "!pip install --upgrade opencv-python\n"
   ]
  },
  {
   "cell_type": "code",
   "execution_count": null,
   "id": "2b0d9b68-7102-4eca-9543-3b9b8acafc6e",
   "metadata": {
    "colab": {
     "base_uri": "https://localhost:8080/"
    },
    "id": "2b0d9b68-7102-4eca-9543-3b9b8acafc6e",
    "outputId": "bd61be3c-3c27-4d59-a450-0ac1fad6ca98"
   },
   "outputs": [],
   "source": [
    "import io\n",
    "#import zipfile\n",
    "#from zipfile import ZipFile\n",
    "import requests\n",
    "\n",
    "import random\n",
    "import pandas as pd\n",
    "import numpy as np\n",
    "import os\n",
    "import re\n",
    "import glob\n",
    "import cv2\n",
    "\n",
    "import torch\n",
    "import torch.nn as nn\n",
    "import torch.optim as optim\n",
    "import torch.nn.functional as F\n",
    "from torch.utils.data import Dataset, DataLoader, WeightedRandomSampler\n",
    "\n",
    "import albumentations as A\n",
    "from albumentations.pytorch.transforms import ToTensorV2\n",
    "import torchvision.models as models\n",
    "\n",
    "from tqdm import tqdm\n",
    "\n",
    "import warnings\n",
    "warnings.filterwarnings(action='ignore')"
   ]
  },
  {
   "cell_type": "code",
   "execution_count": null,
   "id": "d13862e3-bb27-47af-9b58-a9fbf804df71",
   "metadata": {
    "id": "d13862e3-bb27-47af-9b58-a9fbf804df71"
   },
   "outputs": [],
   "source": [
    "device = torch.device('cuda') if torch.cuda.is_available() else torch.device('cpu')"
   ]
  },
  {
   "cell_type": "markdown",
   "id": "fc7df3f2-62d0-4499-a46e-47d01699def0",
   "metadata": {
    "id": "fc7df3f2-62d0-4499-a46e-47d01699def0"
   },
   "source": [
    "## Hyperparameter Setting"
   ]
  },
  {
   "cell_type": "code",
   "execution_count": null,
   "id": "c3367399-9798-4e38-967b-fd2320b9a2b2",
   "metadata": {
    "id": "c3367399-9798-4e38-967b-fd2320b9a2b2"
   },
   "outputs": [],
   "source": [
    "CFG = {\n",
    "    'IMG_SIZE': 299,  # Inception 모델 입력 크기\n",
    "    'EPOCHS': 10 , # 10 이상\n",
    "    'LEARNING_RATE': 3e-4,\n",
    "    'BATCH_SIZE': 32,\n",
    "    'SEED': 41\n",
    "}\n"
   ]
  },
  {
   "cell_type": "markdown",
   "id": "4254e860-ff82-43ba-bfa3-fcee4eb3ddbd",
   "metadata": {
    "id": "4254e860-ff82-43ba-bfa3-fcee4eb3ddbd"
   },
   "source": [
    "## Fixed RandomSeed"
   ]
  },
  {
   "cell_type": "code",
   "execution_count": null,
   "id": "101a714b-71b6-4475-a4ce-fa5f98bc2731",
   "metadata": {
    "id": "101a714b-71b6-4475-a4ce-fa5f98bc2731"
   },
   "outputs": [],
   "source": [
    "def seed_everything(seed):\n",
    "    random.seed(seed)\n",
    "    os.environ['PYTHONHASHSEED'] = str(seed)\n",
    "    np.random.seed(seed)\n",
    "    torch.manual_seed(seed)\n",
    "    torch.cuda.manual_seed(seed)\n",
    "    torch.backends.cudnn.deterministic = True\n",
    "    torch.backends.cudnn.benchmark = True\n",
    "\n",
    "seed_everything(CFG['SEED']) # Seed 고정"
   ]
  },
  {
   "cell_type": "markdown",
   "id": "05a4172e-5791-446f-9616-35c09d8bf25a",
   "metadata": {
    "id": "05a4172e-5791-446f-9616-35c09d8bf25a"
   },
   "source": [
    "## Data Pre-processing"
   ]
  },
  {
   "cell_type": "code",
   "execution_count": null,
   "id": "dd33cb86",
   "metadata": {},
   "outputs": [],
   "source": [
    "#file_name = \"./open/open.zip\"\n",
    "#output_dir = \"./open2\"\n",
    "#os.system(\"unzip \"+file_name+\" -d \"+output_dir)"
   ]
  },
  {
   "cell_type": "code",
   "execution_count": null,
   "id": "a62c78cd-4f40-4e98-b8a6-1b6f1d906b4d",
   "metadata": {
    "id": "a62c78cd-4f40-4e98-b8a6-1b6f1d906b4d"
   },
   "outputs": [],
   "source": [
    "df = pd.read_csv(\"./open2/train.csv\")"
   ]
  },
  {
   "cell_type": "code",
   "execution_count": null,
   "id": "4db41c93-3515-4fcd-936b-0a01f5388b3f",
   "metadata": {
    "id": "4db41c93-3515-4fcd-936b-0a01f5388b3f"
   },
   "outputs": [],
   "source": [
    "train_len = int(len(df) * 0.8) #전체 데이터의 80%를 훈련용으로\n",
    "train_df = df.iloc[:train_len]\n",
    "val_df = df.iloc[train_len:] #나머지 20%를 검증 데이터로"
   ]
  },
  {
   "cell_type": "code",
   "execution_count": null,
   "id": "6c8c5916-8065-4b5c-aa37-f3fb2b9fa422",
   "metadata": {
    "id": "6c8c5916-8065-4b5c-aa37-f3fb2b9fa422"
   },
   "outputs": [],
   "source": [
    "train_label_vec = train_df.iloc[:,2:].values.astype(np.float32)\n",
    "val_label_vec = val_df.iloc[:,2:].values.astype(np.float32) # 훈련, 검증 데이터에서 레이블 데이터를 추출"
   ]
  },
  {
   "cell_type": "code",
   "execution_count": null,
   "id": "529a17e8-7d58-48d4-b474-5b72e8665321",
   "metadata": {
    "id": "529a17e8-7d58-48d4-b474-5b72e8665321"
   },
   "outputs": [],
   "source": [
    "CFG['label_size'] = train_label_vec.shape[1] #레이블 크기 설정"
   ]
  },
  {
   "cell_type": "markdown",
   "id": "ac27ed36-8031-47a7-bd0d-a913513f2e8e",
   "metadata": {
    "id": "ac27ed36-8031-47a7-bd0d-a913513f2e8e"
   },
   "source": [
    "## CustomDataset"
   ]
  },
  {
   "cell_type": "code",
   "execution_count": null,
   "id": "16fd60a5-24e2-4539-bfd0-1c374a641699",
   "metadata": {
    "id": "16fd60a5-24e2-4539-bfd0-1c374a641699"
   },
   "outputs": [],
   "source": [
    "class CustomDataset(Dataset):\n",
    "    def __init__(self, img_path_list, label_list, transforms=None):\n",
    "        self.img_path_list = img_path_list\n",
    "        self.label_list = label_list\n",
    "        self.transforms = transforms #augmentation 포함\n",
    "\n",
    "    def __getitem__(self, index):\n",
    "        img_path = self.img_path_list[index]\n",
    "\n",
    "        image = cv2.imread(img_path)\n",
    "\n",
    "        if self.transforms is not None:\n",
    "            image = self.transforms(image=image)['image']\n",
    "\n",
    "        if self.label_list is not None:\n",
    "            label = self.label_list[index]\n",
    "            return image, label\n",
    "        else:\n",
    "            return image\n",
    "\n",
    "    def __len__(self):\n",
    "        return len(self.img_path_list)"
   ]
  },
  {
   "cell_type": "code",
   "execution_count": null,
   "id": "340b4a8b-5d6c-413f-b8b6-066e91a660e5",
   "metadata": {
    "id": "340b4a8b-5d6c-413f-b8b6-066e91a660e5"
   },
   "outputs": [],
   "source": [
    "train_transform = A.Compose([\n",
    "    A.Resize(CFG['IMG_SIZE'], CFG['IMG_SIZE']),  # 299x299로 수정\n",
    "    A.Normalize(mean=(0.485, 0.456, 0.406), std=(0.229, 0.224, 0.225),\n",
    "                max_pixel_value=255.0, always_apply=True, p=1.0),\n",
    "    ToTensorV2()\n",
    "])\n",
    "\n",
    "test_transform = A.Compose([\n",
    "    A.Resize(CFG['IMG_SIZE'], CFG['IMG_SIZE']),\n",
    "    A.Normalize(mean=(0.485, 0.456, 0.406), std=(0.229, 0.224, 0.225),\n",
    "                max_pixel_value=255.0, always_apply=True, p=1.0),\n",
    "    ToTensorV2()\n",
    "])"
   ]
  },
  {
   "cell_type": "code",
   "execution_count": null,
   "id": "9d880481-1965-499d-9caa-fdfa8526f789",
   "metadata": {
    "id": "9d880481-1965-499d-9caa-fdfa8526f789"
   },
   "outputs": [],
   "source": [
    "train_dataset = CustomDataset(train_df['path'].values, train_label_vec, train_transform)\n",
    "train_loader = DataLoader(train_dataset, batch_size = CFG['BATCH_SIZE'], shuffle=False, num_workers=0)\n",
    "\n",
    "val_dataset = CustomDataset(val_df['path'].values, val_label_vec, test_transform)\n",
    "val_loader = DataLoader(val_dataset, batch_size=CFG['BATCH_SIZE'], shuffle=False, num_workers=0)"
   ]
  },
  {
   "cell_type": "markdown",
   "id": "39962463-032f-490a-a76d-c03991795f38",
   "metadata": {
    "id": "39962463-032f-490a-a76d-c03991795f38"
   },
   "source": [
    "## Model Define"
   ]
  },
  {
   "cell_type": "code",
   "execution_count": null,
   "id": "57c2730a",
   "metadata": {
    "colab": {
     "base_uri": "https://localhost:8080/"
    },
    "id": "57c2730a",
    "outputId": "08a3cd9d-3743-4641-cbf6-4e21e5d904e7"
   },
   "outputs": [],
   "source": [
    "! pip install timm"
   ]
  },
  {
   "cell_type": "code",
   "execution_count": null,
   "id": "0c0a8ab0",
   "metadata": {},
   "outputs": [],
   "source": [
    "import timm\n",
    "import torch.nn as nn\n",
    "\n",
    "class BaseModel(nn.Module):\n",
    "    def __init__(self, gene_size=CFG['label_size'], dropout_rate=0.5):\n",
    "        super(BaseModel, self).__init__()\n",
    "        \n",
    "        # Backbone: Inception-ResNet-V2\n",
    "        self.backbone = timm.create_model('inception_resnet_v2', pretrained=True)\n",
    "        \n",
    "        # Get the number of input features from the last layer\n",
    "        in_features = self.backbone.classif.in_features\n",
    "        \n",
    "        # Remove the original classification layer\n",
    "        self.backbone.classif = nn.Identity()\n",
    "        \n",
    "        # Regressor: Add dropout and activation function\n",
    "        self.regressor = nn.Sequential(\n",
    "            nn.SiLU(),  # Activation function\n",
    "            nn.Dropout(p=dropout_rate),  # Dropout layer\n",
    "            nn.Linear(in_features, gene_size)  # Linear regression layer\n",
    "        )\n",
    "        \n",
    "    def forward(self, x):\n",
    "        x = self.backbone(x)\n",
    "        x = self.regressor(x)\n",
    "        return x\n"
   ]
  },
  {
   "cell_type": "markdown",
   "id": "122af0aa-a1fd-4595-9488-35761e3cb596",
   "metadata": {
    "id": "122af0aa-a1fd-4595-9488-35761e3cb596"
   },
   "source": [
    "## Train"
   ]
  },
  {
   "cell_type": "code",
   "execution_count": null,
   "id": "96b1c524-89fb-4ce8-a49f-067fd489f84a",
   "metadata": {
    "id": "96b1c524-89fb-4ce8-a49f-067fd489f84a"
   },
   "outputs": [],
   "source": [
    "def validation(model, criterion, val_loader, device):\n",
    "    model.eval()\n",
    "    val_loss = []\n",
    "\n",
    "    with torch.no_grad():\n",
    "        for imgs, labels in tqdm(iter(val_loader)):\n",
    "            imgs = imgs.float().to(device)\n",
    "            labels = labels.to(device)\n",
    "\n",
    "            pred = model(imgs)\n",
    "\n",
    "            loss = criterion(pred, labels)\n",
    "\n",
    "            val_loss.append(loss.item())\n",
    "\n",
    "        _val_loss = np.mean(val_loss)\n",
    "\n",
    "    return _val_loss"
   ]
  },
  {
   "cell_type": "code",
   "execution_count": null,
   "id": "a17df6b3-16c9-44dd-b0fd-ffb501fee749",
   "metadata": {
    "id": "a17df6b3-16c9-44dd-b0fd-ffb501fee749"
   },
   "outputs": [],
   "source": [
    "def train(model, optimizer, train_loader, val_loader, scheduler, device, epochs):\n",
    "    model.to(device)\n",
    "    criterion = nn.MSELoss().to(device)\n",
    "\n",
    "    history = {'train_loss': [], 'val_loss': []}\n",
    "\n",
    "    best_loss = 99999999\n",
    "    best_model = None\n",
    "\n",
    "    for epoch in range(1, epochs+1):\n",
    "        model.train()\n",
    "        train_loss = []\n",
    "        for imgs, labels in tqdm(iter(train_loader)):\n",
    "            imgs = imgs.float().to(device)\n",
    "            labels = labels.to(device)\n",
    "\n",
    "            optimizer.zero_grad()\n",
    "\n",
    "            output = model(imgs)\n",
    "            loss = criterion(output, labels)\n",
    "\n",
    "            loss.backward()\n",
    "            optimizer.step()\n",
    "\n",
    "            train_loss.append(loss.item())\n",
    "\n",
    "        _train_loss = np.mean(train_loss)\n",
    "        _val_loss = validation(model, criterion, val_loader, device)\n",
    "\n",
    "        history['train_loss'].append(_train_loss)\n",
    "        history['val_loss'].append(_val_loss)\n",
    "\n",
    "        print(f'Epoch [{epoch}], Train Loss : [{_train_loss:.5f}] Val Loss : [{_val_loss:.5f}]')\n",
    "\n",
    "        if scheduler is not None:\n",
    "            scheduler.step(_val_loss)\n",
    "\n",
    "        if best_loss > _val_loss:\n",
    "            best_loss = _val_loss\n",
    "            best_model = model\n",
    "\n",
    "    return best_model, history"
   ]
  },
  {
   "cell_type": "markdown",
   "id": "51da39f9-904f-4abd-a7d2-cdf29c4a6c24",
   "metadata": {
    "id": "51da39f9-904f-4abd-a7d2-cdf29c4a6c24"
   },
   "source": [
    "## Run!!"
   ]
  },
  {
   "cell_type": "code",
   "execution_count": null,
   "id": "f5tjRFyT-jAT",
   "metadata": {
    "id": "f5tjRFyT-jAT"
   },
   "outputs": [],
   "source": [
    "# 1. 이미지 파일의 기본 경로 지정\n",
    "base_path = \"./open2/\"  # train.csv 파일이 위치한 폴더로 변경\n",
    "\n",
    "# 2. 데이터프레임의 이미지 경로를 절대 경로로 업데이트\n",
    "train_df['path'] = base_path + train_df['path'].astype(str)\n",
    "val_df['path'] = base_path + val_df['path'].astype(str)\n",
    "\n",
    "train_dataset = CustomDataset(train_df['path'].values, train_label_vec, train_transform)\n",
    "val_dataset = CustomDataset(val_df['path'].values, val_label_vec, test_transform)"
   ]
  },
  {
   "cell_type": "code",
   "execution_count": null,
   "id": "06e92db2",
   "metadata": {},
   "outputs": [],
   "source": [
    "train_df[\"path\"]"
   ]
  },
  {
   "cell_type": "markdown",
   "id": "BsbE1Rln-Wrw",
   "metadata": {
    "id": "BsbE1Rln-Wrw"
   },
   "source": [
    "## Optuna"
   ]
  },
  {
   "cell_type": "code",
   "execution_count": null,
   "id": "kjoMO1YOAUVa",
   "metadata": {
    "colab": {
     "base_uri": "https://localhost:8080/"
    },
    "id": "kjoMO1YOAUVa",
    "outputId": "4db3812f-cc1a-4ee6-eb07-d4f8331ed2e2"
   },
   "outputs": [],
   "source": [
    "!pip install optuna"
   ]
  },
  {
   "cell_type": "code",
   "execution_count": null,
   "id": "04a40592",
   "metadata": {},
   "outputs": [],
   "source": [
    "import optuna\n",
    "from optuna.trial import TrialState\n",
    "\n",
    "# Optuna objective function\n",
    "def objective(trial):\n",
    "    # 하이퍼파라미터 샘플링\n",
    "    learning_rate = trial.suggest_loguniform('learning_rate', 1e-5, 1e-2)\n",
    "    epochs = trial.suggest_int('epochs', 10, 30)  # epoch 범위 설정\n",
    "\n",
    "    # 고정된 batch_size 설정\n",
    "    batch_size = 32\n",
    "\n",
    "    # 데이터 로더 업데이트\n",
    "    train_loader = DataLoader(\n",
    "        train_dataset, batch_size=batch_size, shuffle=True, num_workers=0\n",
    "    )\n",
    "    val_loader = DataLoader(\n",
    "        val_dataset, batch_size=batch_size, shuffle=False, num_workers=0\n",
    "    )\n",
    "\n",
    "    # 모델, 옵티마이저, 스케줄러 설정\n",
    "    model = BaseModel()\n",
    "    model.to(device)\n",
    "    optimizer = torch.optim.Adam(params=model.parameters(), lr=learning_rate)\n",
    "    scheduler = torch.optim.lr_scheduler.ReduceLROnPlateau(\n",
    "        optimizer, mode='min', factor=0.5, patience=2,\n",
    "        threshold_mode='abs', min_lr=1e-8, verbose=False\n",
    "    )\n",
    "\n",
    "    # 모델 학습\n",
    "    _, history = train(model, optimizer, train_loader, val_loader, scheduler, device, epochs)\n",
    "\n",
    "    # 검증 손실의 마지막 값을 반환 (최소화 대상)\n",
    "    return min(history['val_loss'])\n"
   ]
  },
  {
   "cell_type": "code",
   "execution_count": null,
   "id": "RpYVyOGC-hbP",
   "metadata": {
    "id": "RpYVyOGC-hbP"
   },
   "outputs": [],
   "source": [
    "def optimize_hyperparameters():\n",
    "    study = optuna.create_study(direction='minimize')\n",
    "    study.optimize(objective, n_trials=15)  # 시도 횟수 설정\n",
    "\n",
    "    # 최적의 하이퍼파라미터 출력\n",
    "    print(\"Best trial:\")\n",
    "    print(f\"  Value: {study.best_trial.value}\")\n",
    "    print(\"  Params: \")\n",
    "    for key, value in study.best_trial.params.items():\n",
    "        print(f\"    {key}: {value}\")\n",
    "\n",
    "    return study.best_trial.params"
   ]
  },
  {
   "cell_type": "code",
   "execution_count": null,
   "id": "OO0k6O_e-x9U",
   "metadata": {
    "colab": {
     "base_uri": "https://localhost:8080/",
     "height": 921,
     "referenced_widgets": [
      "91d6e38b573f490ebdfd44fa6509d1a3",
      "3ffb752e4078495dac53812e4a2b854c",
      "0080d80b5170496987dc08a744013d8f",
      "8571e5f75d1f496ab17bc587094e3efd",
      "f2b07285924945e88d31ea8f75d02415",
      "7a6496d917c044ee8e7f158b1c9f2217",
      "0a6d611edfdc47298c856d40421af7f9",
      "45f9a669a3454d389cf18be91707ec00",
      "79f7346138574fb79e5d3106dba89b38",
      "56ebcc5bea0b4206b84de19da2b3cbd8",
      "2f007c979b8643539d7936400dead76b"
     ]
    },
    "id": "OO0k6O_e-x9U",
    "outputId": "499902ef-e960-4479-ebb4-656a5ff0798d"
   },
   "outputs": [],
   "source": [
    "# 최적의 하이퍼파라미터 찾기\n",
    "best_params = optimize_hyperparameters()\n",
    "\n",
    "# 최적의 하이퍼파라미터로 학습 실행\n",
    "CFG['LEARNING_RATE'] = best_params['learning_rate']\n",
    "CFG['EPOCHS'] = best_params['epochs']"
   ]
  },
  {
   "cell_type": "markdown",
   "id": "yOSdyNsF_-i1",
   "metadata": {
    "id": "yOSdyNsF_-i1"
   },
   "source": [
    "## final_model"
   ]
  },
  {
   "cell_type": "code",
   "execution_count": null,
   "id": "mcFTIHJe_AJ1",
   "metadata": {
    "id": "mcFTIHJe_AJ1"
   },
   "outputs": [],
   "source": [
    "train_loader = DataLoader(\n",
    "    train_dataset, batch_size=CFG['BATCH_SIZE'], shuffle=True, num_workers=0\n",
    ")\n",
    "val_loader = DataLoader(\n",
    "    val_dataset, batch_size=CFG['BATCH_SIZE'], shuffle=False, num_workers=0\n",
    ")"
   ]
  },
  {
   "cell_type": "code",
   "execution_count": null,
   "id": "86142d9a-68b7-4d04-8423-49d28025411d",
   "metadata": {
    "id": "86142d9a-68b7-4d04-8423-49d28025411d",
    "tags": []
   },
   "outputs": [],
   "source": [
    "model = BaseModel()\n",
    "optimizer = torch.optim.Adam(params=model.parameters(), lr=CFG[\"LEARNING_RATE\"])\n",
    "scheduler = torch.optim.lr_scheduler.ReduceLROnPlateau(\n",
    "    optimizer, mode='min', factor=0.5, patience=2,\n",
    "    threshold_mode='abs', min_lr=1e-8, verbose=True\n",
    ")\n",
    "\n",
    "infer_model, history = train(model, optimizer, train_loader, val_loader, scheduler, device, CFG['EPOCHS'])"
   ]
  },
  {
   "cell_type": "markdown",
   "id": "e275a486-9c59-4b4e-80f6-5000e017b921",
   "metadata": {
    "id": "e275a486-9c59-4b4e-80f6-5000e017b921"
   },
   "source": [
    "## Inference"
   ]
  },
  {
   "cell_type": "code",
   "execution_count": null,
   "id": "0ed16d0e-61ee-4737-b90a-3842860cc40a",
   "metadata": {
    "id": "0ed16d0e-61ee-4737-b90a-3842860cc40a"
   },
   "outputs": [],
   "source": [
    "test = pd.read_csv('./open2/test.csv')"
   ]
  },
  {
   "cell_type": "code",
   "execution_count": null,
   "id": "a5901b81",
   "metadata": {
    "id": "a5901b81"
   },
   "outputs": [],
   "source": [
    "# 2. 테스트 데이터 경로 절대 경로로 변환\n",
    "test['path'] = base_path + test['path'].astype(str)\n",
    "\n",
    "# 3. 테스트 데이터셋과 데이터 로더 생성\n",
    "test_dataset = CustomDataset(test['path'].values, None, test_transform)\n",
    "test_loader = DataLoader(test_dataset, batch_size=CFG['BATCH_SIZE'], shuffle=False, num_workers=0)\n"
   ]
  },
  {
   "cell_type": "code",
   "execution_count": null,
   "id": "dbbf9ae5-9d8c-4800-a809-63094a1e9a24",
   "metadata": {
    "id": "dbbf9ae5-9d8c-4800-a809-63094a1e9a24"
   },
   "outputs": [],
   "source": [
    "test_dataset = CustomDataset(test['path'].values, None, test_transform)\n",
    "test_loader = DataLoader(test_dataset, batch_size=CFG['BATCH_SIZE'], shuffle=False, num_workers=0)"
   ]
  },
  {
   "cell_type": "code",
   "execution_count": null,
   "id": "378fd3a9-76d8-4c9a-81a1-c6a48492684c",
   "metadata": {
    "id": "378fd3a9-76d8-4c9a-81a1-c6a48492684c"
   },
   "outputs": [],
   "source": [
    "def inference(model, test_loader, device):\n",
    "    model.eval()\n",
    "    preds = []\n",
    "    with torch.no_grad():\n",
    "        for imgs in tqdm(test_loader):\n",
    "            imgs = imgs.to(device).float()\n",
    "            pred = model(imgs)\n",
    "\n",
    "            preds.append(pred.detach().cpu())\n",
    "\n",
    "    preds = torch.cat(preds).numpy()\n",
    "\n",
    "    return preds"
   ]
  },
  {
   "cell_type": "code",
   "execution_count": null,
   "id": "2866935c-407d-4919-a58b-1f8feaa66a2a",
   "metadata": {
    "colab": {
     "base_uri": "https://localhost:8080/"
    },
    "id": "2866935c-407d-4919-a58b-1f8feaa66a2a",
    "outputId": "5bcdc091-6dd9-4c3e-d5b1-eac114f0d23b"
   },
   "outputs": [],
   "source": [
    "preds = inference(infer_model, test_loader, device)"
   ]
  },
  {
   "cell_type": "markdown",
   "id": "35be0d25-6a06-43bb-bca0-94eda2409a26",
   "metadata": {
    "id": "35be0d25-6a06-43bb-bca0-94eda2409a26"
   },
   "source": [
    "## Submission"
   ]
  },
  {
   "cell_type": "code",
   "execution_count": null,
   "id": "fc864be2-c306-4ad0-aa97-1d5ab5ea9811",
   "metadata": {
    "id": "fc864be2-c306-4ad0-aa97-1d5ab5ea9811"
   },
   "outputs": [],
   "source": [
    "submit = pd.read_csv('./open2/sample_submission.csv')\n",
    "submit.iloc[:, 1:] = np.array(preds).astype(np.float32)\n",
    "submit.to_csv('./open2/inception- resnet- v2-ver3_tuning.csv', index=False)"
   ]
  },
  {
   "cell_type": "code",
   "execution_count": null,
   "id": "WBij3LMl4_bQ",
   "metadata": {
    "id": "WBij3LMl4_bQ"
   },
   "outputs": [],
   "source": [
    "import matplotlib.pyplot as plt\n",
    "\n",
    "# 손실 그래프 시각화\n",
    "plt.figure(figsize=(10, 5))\n",
    "plt.plot(history['train_loss'], label='Train Loss')\n",
    "plt.plot(history['val_loss'], label='Validation Loss')\n",
    "plt.xlabel('Epochs')\n",
    "plt.ylabel('Loss')\n",
    "plt.title('Train and Validation Loss')\n",
    "plt.legend()\n",
    "plt.grid()\n",
    "plt.show()\n"
   ]
  },
  {
   "cell_type": "code",
   "execution_count": null,
   "id": "df1463ca",
   "metadata": {},
   "outputs": [],
   "source": []
  }
 ],
 "metadata": {
  "accelerator": "GPU",
  "colab": {
   "collapsed_sections": [
    "05a4172e-5791-446f-9616-35c09d8bf25a",
    "ac27ed36-8031-47a7-bd0d-a913513f2e8e",
    "39962463-032f-490a-a76d-c03991795f38",
    "122af0aa-a1fd-4595-9488-35761e3cb596"
   ],
   "gpuType": "A100",
   "machine_shape": "hm",
   "provenance": []
  },
  "kernelspec": {
   "display_name": "PyTorch 2.2 (NGC 23.11/Python 3.10) on Backend.AI",
   "language": "python",
   "name": "python3"
  },
  "language_info": {
   "codemirror_mode": {
    "name": "ipython",
    "version": 3
   },
   "file_extension": ".py",
   "mimetype": "text/x-python",
   "name": "python",
   "nbconvert_exporter": "python",
   "pygments_lexer": "ipython3",
   "version": "3.10.12"
  },
  "widgets": {
   "application/vnd.jupyter.widget-state+json": {
    "0080d80b5170496987dc08a744013d8f": {
     "model_module": "@jupyter-widgets/controls",
     "model_module_version": "1.5.0",
     "model_name": "FloatProgressModel",
     "state": {
      "_dom_classes": [],
      "_model_module": "@jupyter-widgets/controls",
      "_model_module_version": "1.5.0",
      "_model_name": "FloatProgressModel",
      "_view_count": null,
      "_view_module": "@jupyter-widgets/controls",
      "_view_module_version": "1.5.0",
      "_view_name": "ProgressView",
      "bar_style": "success",
      "description": "",
      "description_tooltip": null,
      "layout": "IPY_MODEL_45f9a669a3454d389cf18be91707ec00",
      "max": 223748230,
      "min": 0,
      "orientation": "horizontal",
      "style": "IPY_MODEL_79f7346138574fb79e5d3106dba89b38",
      "value": 223748230
     }
    },
    "0a6d611edfdc47298c856d40421af7f9": {
     "model_module": "@jupyter-widgets/controls",
     "model_module_version": "1.5.0",
     "model_name": "DescriptionStyleModel",
     "state": {
      "_model_module": "@jupyter-widgets/controls",
      "_model_module_version": "1.5.0",
      "_model_name": "DescriptionStyleModel",
      "_view_count": null,
      "_view_module": "@jupyter-widgets/base",
      "_view_module_version": "1.2.0",
      "_view_name": "StyleView",
      "description_width": ""
     }
    },
    "2f007c979b8643539d7936400dead76b": {
     "model_module": "@jupyter-widgets/controls",
     "model_module_version": "1.5.0",
     "model_name": "DescriptionStyleModel",
     "state": {
      "_model_module": "@jupyter-widgets/controls",
      "_model_module_version": "1.5.0",
      "_model_name": "DescriptionStyleModel",
      "_view_count": null,
      "_view_module": "@jupyter-widgets/base",
      "_view_module_version": "1.2.0",
      "_view_name": "StyleView",
      "description_width": ""
     }
    },
    "3ffb752e4078495dac53812e4a2b854c": {
     "model_module": "@jupyter-widgets/controls",
     "model_module_version": "1.5.0",
     "model_name": "HTMLModel",
     "state": {
      "_dom_classes": [],
      "_model_module": "@jupyter-widgets/controls",
      "_model_module_version": "1.5.0",
      "_model_name": "HTMLModel",
      "_view_count": null,
      "_view_module": "@jupyter-widgets/controls",
      "_view_module_version": "1.5.0",
      "_view_name": "HTMLView",
      "description": "",
      "description_tooltip": null,
      "layout": "IPY_MODEL_7a6496d917c044ee8e7f158b1c9f2217",
      "placeholder": "​",
      "style": "IPY_MODEL_0a6d611edfdc47298c856d40421af7f9",
      "value": "model.safetensors: 100%"
     }
    },
    "45f9a669a3454d389cf18be91707ec00": {
     "model_module": "@jupyter-widgets/base",
     "model_module_version": "1.2.0",
     "model_name": "LayoutModel",
     "state": {
      "_model_module": "@jupyter-widgets/base",
      "_model_module_version": "1.2.0",
      "_model_name": "LayoutModel",
      "_view_count": null,
      "_view_module": "@jupyter-widgets/base",
      "_view_module_version": "1.2.0",
      "_view_name": "LayoutView",
      "align_content": null,
      "align_items": null,
      "align_self": null,
      "border": null,
      "bottom": null,
      "display": null,
      "flex": null,
      "flex_flow": null,
      "grid_area": null,
      "grid_auto_columns": null,
      "grid_auto_flow": null,
      "grid_auto_rows": null,
      "grid_column": null,
      "grid_gap": null,
      "grid_row": null,
      "grid_template_areas": null,
      "grid_template_columns": null,
      "grid_template_rows": null,
      "height": null,
      "justify_content": null,
      "justify_items": null,
      "left": null,
      "margin": null,
      "max_height": null,
      "max_width": null,
      "min_height": null,
      "min_width": null,
      "object_fit": null,
      "object_position": null,
      "order": null,
      "overflow": null,
      "overflow_x": null,
      "overflow_y": null,
      "padding": null,
      "right": null,
      "top": null,
      "visibility": null,
      "width": null
     }
    },
    "56ebcc5bea0b4206b84de19da2b3cbd8": {
     "model_module": "@jupyter-widgets/base",
     "model_module_version": "1.2.0",
     "model_name": "LayoutModel",
     "state": {
      "_model_module": "@jupyter-widgets/base",
      "_model_module_version": "1.2.0",
      "_model_name": "LayoutModel",
      "_view_count": null,
      "_view_module": "@jupyter-widgets/base",
      "_view_module_version": "1.2.0",
      "_view_name": "LayoutView",
      "align_content": null,
      "align_items": null,
      "align_self": null,
      "border": null,
      "bottom": null,
      "display": null,
      "flex": null,
      "flex_flow": null,
      "grid_area": null,
      "grid_auto_columns": null,
      "grid_auto_flow": null,
      "grid_auto_rows": null,
      "grid_column": null,
      "grid_gap": null,
      "grid_row": null,
      "grid_template_areas": null,
      "grid_template_columns": null,
      "grid_template_rows": null,
      "height": null,
      "justify_content": null,
      "justify_items": null,
      "left": null,
      "margin": null,
      "max_height": null,
      "max_width": null,
      "min_height": null,
      "min_width": null,
      "object_fit": null,
      "object_position": null,
      "order": null,
      "overflow": null,
      "overflow_x": null,
      "overflow_y": null,
      "padding": null,
      "right": null,
      "top": null,
      "visibility": null,
      "width": null
     }
    },
    "79f7346138574fb79e5d3106dba89b38": {
     "model_module": "@jupyter-widgets/controls",
     "model_module_version": "1.5.0",
     "model_name": "ProgressStyleModel",
     "state": {
      "_model_module": "@jupyter-widgets/controls",
      "_model_module_version": "1.5.0",
      "_model_name": "ProgressStyleModel",
      "_view_count": null,
      "_view_module": "@jupyter-widgets/base",
      "_view_module_version": "1.2.0",
      "_view_name": "StyleView",
      "bar_color": null,
      "description_width": ""
     }
    },
    "7a6496d917c044ee8e7f158b1c9f2217": {
     "model_module": "@jupyter-widgets/base",
     "model_module_version": "1.2.0",
     "model_name": "LayoutModel",
     "state": {
      "_model_module": "@jupyter-widgets/base",
      "_model_module_version": "1.2.0",
      "_model_name": "LayoutModel",
      "_view_count": null,
      "_view_module": "@jupyter-widgets/base",
      "_view_module_version": "1.2.0",
      "_view_name": "LayoutView",
      "align_content": null,
      "align_items": null,
      "align_self": null,
      "border": null,
      "bottom": null,
      "display": null,
      "flex": null,
      "flex_flow": null,
      "grid_area": null,
      "grid_auto_columns": null,
      "grid_auto_flow": null,
      "grid_auto_rows": null,
      "grid_column": null,
      "grid_gap": null,
      "grid_row": null,
      "grid_template_areas": null,
      "grid_template_columns": null,
      "grid_template_rows": null,
      "height": null,
      "justify_content": null,
      "justify_items": null,
      "left": null,
      "margin": null,
      "max_height": null,
      "max_width": null,
      "min_height": null,
      "min_width": null,
      "object_fit": null,
      "object_position": null,
      "order": null,
      "overflow": null,
      "overflow_x": null,
      "overflow_y": null,
      "padding": null,
      "right": null,
      "top": null,
      "visibility": null,
      "width": null
     }
    },
    "8571e5f75d1f496ab17bc587094e3efd": {
     "model_module": "@jupyter-widgets/controls",
     "model_module_version": "1.5.0",
     "model_name": "HTMLModel",
     "state": {
      "_dom_classes": [],
      "_model_module": "@jupyter-widgets/controls",
      "_model_module_version": "1.5.0",
      "_model_name": "HTMLModel",
      "_view_count": null,
      "_view_module": "@jupyter-widgets/controls",
      "_view_module_version": "1.5.0",
      "_view_name": "HTMLView",
      "description": "",
      "description_tooltip": null,
      "layout": "IPY_MODEL_56ebcc5bea0b4206b84de19da2b3cbd8",
      "placeholder": "​",
      "style": "IPY_MODEL_2f007c979b8643539d7936400dead76b",
      "value": " 224M/224M [00:10&lt;00:00, 22.7MB/s]"
     }
    },
    "91d6e38b573f490ebdfd44fa6509d1a3": {
     "model_module": "@jupyter-widgets/controls",
     "model_module_version": "1.5.0",
     "model_name": "HBoxModel",
     "state": {
      "_dom_classes": [],
      "_model_module": "@jupyter-widgets/controls",
      "_model_module_version": "1.5.0",
      "_model_name": "HBoxModel",
      "_view_count": null,
      "_view_module": "@jupyter-widgets/controls",
      "_view_module_version": "1.5.0",
      "_view_name": "HBoxView",
      "box_style": "",
      "children": [
       "IPY_MODEL_3ffb752e4078495dac53812e4a2b854c",
       "IPY_MODEL_0080d80b5170496987dc08a744013d8f",
       "IPY_MODEL_8571e5f75d1f496ab17bc587094e3efd"
      ],
      "layout": "IPY_MODEL_f2b07285924945e88d31ea8f75d02415"
     }
    },
    "f2b07285924945e88d31ea8f75d02415": {
     "model_module": "@jupyter-widgets/base",
     "model_module_version": "1.2.0",
     "model_name": "LayoutModel",
     "state": {
      "_model_module": "@jupyter-widgets/base",
      "_model_module_version": "1.2.0",
      "_model_name": "LayoutModel",
      "_view_count": null,
      "_view_module": "@jupyter-widgets/base",
      "_view_module_version": "1.2.0",
      "_view_name": "LayoutView",
      "align_content": null,
      "align_items": null,
      "align_self": null,
      "border": null,
      "bottom": null,
      "display": null,
      "flex": null,
      "flex_flow": null,
      "grid_area": null,
      "grid_auto_columns": null,
      "grid_auto_flow": null,
      "grid_auto_rows": null,
      "grid_column": null,
      "grid_gap": null,
      "grid_row": null,
      "grid_template_areas": null,
      "grid_template_columns": null,
      "grid_template_rows": null,
      "height": null,
      "justify_content": null,
      "justify_items": null,
      "left": null,
      "margin": null,
      "max_height": null,
      "max_width": null,
      "min_height": null,
      "min_width": null,
      "object_fit": null,
      "object_position": null,
      "order": null,
      "overflow": null,
      "overflow_x": null,
      "overflow_y": null,
      "padding": null,
      "right": null,
      "top": null,
      "visibility": null,
      "width": null
     }
    }
   }
  }
 },
 "nbformat": 4,
 "nbformat_minor": 5
}
