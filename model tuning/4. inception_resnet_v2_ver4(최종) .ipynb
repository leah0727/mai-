{
 "cells": [
  {
   "cell_type": "markdown",
   "id": "a2bcba5f-002e-4f49-9622-ada6117faf0a",
   "metadata": {
    "id": "a2bcba5f-002e-4f49-9622-ada6117faf0a"
   },
   "source": [
    "## Import"
   ]
  },
  {
   "cell_type": "code",
   "execution_count": 1,
   "id": "2037e2fa",
   "metadata": {},
   "outputs": [
    {
     "name": "stdout",
     "output_type": "stream",
     "text": [
      "Found existing installation: opencv-python 4.9.0.80\n",
      "Uninstalling opencv-python-4.9.0.80:\n",
      "  Successfully uninstalled opencv-python-4.9.0.80\n",
      "\u001b[33mWARNING: Running pip as the 'root' user can result in broken permissions and conflicting behaviour with the system package manager. It is recommended to use a virtual environment instead: https://pip.pypa.io/warnings/venv\u001b[0m\u001b[33m\n",
      "\u001b[0m"
     ]
    }
   ],
   "source": [
    "!sudo pip uninstall opencv-python --y"
   ]
  },
  {
   "cell_type": "code",
   "execution_count": 2,
   "id": "67ee87cf",
   "metadata": {},
   "outputs": [
    {
     "name": "stdout",
     "output_type": "stream",
     "text": [
      "Defaulting to user installation because normal site-packages is not writeable\n",
      "Looking in indexes: https://pypi.org/simple, https://pypi.ngc.nvidia.com\n",
      "Collecting opencv-python\n",
      "  Downloading opencv_python-4.10.0.84-cp37-abi3-manylinux_2_17_x86_64.manylinux2014_x86_64.whl.metadata (20 kB)\n",
      "Requirement already satisfied: numpy>=1.21.2 in /usr/local/lib/python3.10/dist-packages (from opencv-python) (1.24.4)\n",
      "Downloading opencv_python-4.10.0.84-cp37-abi3-manylinux_2_17_x86_64.manylinux2014_x86_64.whl (62.5 MB)\n",
      "\u001b[2K   \u001b[90m━━━━━━━━━━━━━━━━━━━━━━━━━━━━━━━━━━━━━━━━\u001b[0m \u001b[32m62.5/62.5 MB\u001b[0m \u001b[31m199.8 MB/s\u001b[0m eta \u001b[36m0:00:00\u001b[0ma \u001b[36m0:00:01\u001b[0m\n",
      "\u001b[?25h\u001b[33mDEPRECATION: devscripts 2.22.1ubuntu1 has a non-standard version number. pip 24.0 will enforce this behaviour change. A possible replacement is to upgrade to a newer version of devscripts or contact the author to suggest that they release a version with a conforming version number. Discussion can be found at https://github.com/pypa/pip/issues/12063\u001b[0m\u001b[33m\n",
      "\u001b[0mInstalling collected packages: opencv-python\n",
      "Successfully installed opencv-python-4.10.0.84\n",
      "\n",
      "\u001b[1m[\u001b[0m\u001b[34;49mnotice\u001b[0m\u001b[1;39;49m]\u001b[0m\u001b[39;49m A new release of pip is available: \u001b[0m\u001b[31;49m23.3.2\u001b[0m\u001b[39;49m -> \u001b[0m\u001b[32;49m24.3.1\u001b[0m\n",
      "\u001b[1m[\u001b[0m\u001b[34;49mnotice\u001b[0m\u001b[1;39;49m]\u001b[0m\u001b[39;49m To update, run: \u001b[0m\u001b[32;49mpython -m pip install --upgrade pip\u001b[0m\n"
     ]
    }
   ],
   "source": [
    "!pip install --upgrade opencv-python\n"
   ]
  },
  {
   "cell_type": "code",
   "execution_count": 3,
   "id": "2b0d9b68-7102-4eca-9543-3b9b8acafc6e",
   "metadata": {
    "colab": {
     "base_uri": "https://localhost:8080/"
    },
    "id": "2b0d9b68-7102-4eca-9543-3b9b8acafc6e",
    "outputId": "bd61be3c-3c27-4d59-a450-0ac1fad6ca98"
   },
   "outputs": [],
   "source": [
    "import io\n",
    "#import zipfile\n",
    "#from zipfile import ZipFile\n",
    "import requests\n",
    "\n",
    "import random\n",
    "import pandas as pd\n",
    "import numpy as np\n",
    "import os\n",
    "import re\n",
    "import glob\n",
    "import cv2\n",
    "\n",
    "import torch\n",
    "import torch.nn as nn\n",
    "import torch.optim as optim\n",
    "import torch.nn.functional as F\n",
    "from torch.utils.data import Dataset, DataLoader, WeightedRandomSampler\n",
    "\n",
    "import albumentations as A\n",
    "from albumentations.pytorch.transforms import ToTensorV2\n",
    "import torchvision.models as models\n",
    "\n",
    "from tqdm import tqdm\n",
    "\n",
    "import warnings\n",
    "warnings.filterwarnings(action='ignore')"
   ]
  },
  {
   "cell_type": "code",
   "execution_count": 4,
   "id": "d13862e3-bb27-47af-9b58-a9fbf804df71",
   "metadata": {
    "id": "d13862e3-bb27-47af-9b58-a9fbf804df71"
   },
   "outputs": [],
   "source": [
    "device = torch.device('cuda') if torch.cuda.is_available() else torch.device('cpu')"
   ]
  },
  {
   "cell_type": "markdown",
   "id": "fc7df3f2-62d0-4499-a46e-47d01699def0",
   "metadata": {
    "id": "fc7df3f2-62d0-4499-a46e-47d01699def0"
   },
   "source": [
    "## Hyperparameter Setting"
   ]
  },
  {
   "cell_type": "code",
   "execution_count": 5,
   "id": "c3367399-9798-4e38-967b-fd2320b9a2b2",
   "metadata": {
    "id": "c3367399-9798-4e38-967b-fd2320b9a2b2"
   },
   "outputs": [],
   "source": [
    "CFG = {\n",
    "    'IMG_SIZE': 299,  # Inception 모델 입력 크기\n",
    "    'EPOCHS': 10 , # 10 이상\n",
    "    'LEARNING_RATE': 3e-4,\n",
    "    'BATCH_SIZE': 32,\n",
    "    'SEED': 41\n",
    "}\n"
   ]
  },
  {
   "cell_type": "markdown",
   "id": "4254e860-ff82-43ba-bfa3-fcee4eb3ddbd",
   "metadata": {
    "id": "4254e860-ff82-43ba-bfa3-fcee4eb3ddbd"
   },
   "source": [
    "## Fixed RandomSeed"
   ]
  },
  {
   "cell_type": "code",
   "execution_count": 6,
   "id": "101a714b-71b6-4475-a4ce-fa5f98bc2731",
   "metadata": {
    "id": "101a714b-71b6-4475-a4ce-fa5f98bc2731"
   },
   "outputs": [],
   "source": [
    "def seed_everything(seed):\n",
    "    random.seed(seed)\n",
    "    os.environ['PYTHONHASHSEED'] = str(seed)\n",
    "    np.random.seed(seed)\n",
    "    torch.manual_seed(seed)\n",
    "    torch.cuda.manual_seed(seed)\n",
    "    torch.backends.cudnn.deterministic = True\n",
    "    torch.backends.cudnn.benchmark = True\n",
    "\n",
    "seed_everything(CFG['SEED']) # Seed 고정"
   ]
  },
  {
   "cell_type": "markdown",
   "id": "05a4172e-5791-446f-9616-35c09d8bf25a",
   "metadata": {
    "id": "05a4172e-5791-446f-9616-35c09d8bf25a"
   },
   "source": [
    "## Data Pre-processing"
   ]
  },
  {
   "cell_type": "code",
   "execution_count": 7,
   "id": "dd33cb86",
   "metadata": {},
   "outputs": [],
   "source": [
    "#file_name = \"./open/open.zip\"\n",
    "#output_dir = \"./open2\"\n",
    "#os.system(\"unzip \"+file_name+\" -d \"+output_dir)"
   ]
  },
  {
   "cell_type": "code",
   "execution_count": 8,
   "id": "a62c78cd-4f40-4e98-b8a6-1b6f1d906b4d",
   "metadata": {
    "id": "a62c78cd-4f40-4e98-b8a6-1b6f1d906b4d"
   },
   "outputs": [],
   "source": [
    "df = pd.read_csv(\"./open2/train.csv\")"
   ]
  },
  {
   "cell_type": "code",
   "execution_count": 9,
   "id": "4db41c93-3515-4fcd-936b-0a01f5388b3f",
   "metadata": {
    "id": "4db41c93-3515-4fcd-936b-0a01f5388b3f"
   },
   "outputs": [],
   "source": [
    "train_len = int(len(df) * 0.8) #전체 데이터의 80%를 훈련용으로\n",
    "train_df = df.iloc[:train_len]\n",
    "val_df = df.iloc[train_len:] #나머지 20%를 검증 데이터로"
   ]
  },
  {
   "cell_type": "code",
   "execution_count": 10,
   "id": "6c8c5916-8065-4b5c-aa37-f3fb2b9fa422",
   "metadata": {
    "id": "6c8c5916-8065-4b5c-aa37-f3fb2b9fa422"
   },
   "outputs": [],
   "source": [
    "train_label_vec = train_df.iloc[:,2:].values.astype(np.float32)\n",
    "val_label_vec = val_df.iloc[:,2:].values.astype(np.float32) # 훈련, 검증 데이터에서 레이블 데이터를 추출"
   ]
  },
  {
   "cell_type": "code",
   "execution_count": 11,
   "id": "529a17e8-7d58-48d4-b474-5b72e8665321",
   "metadata": {
    "id": "529a17e8-7d58-48d4-b474-5b72e8665321"
   },
   "outputs": [],
   "source": [
    "CFG['label_size'] = train_label_vec.shape[1] #레이블 크기 설정"
   ]
  },
  {
   "cell_type": "markdown",
   "id": "ac27ed36-8031-47a7-bd0d-a913513f2e8e",
   "metadata": {
    "id": "ac27ed36-8031-47a7-bd0d-a913513f2e8e"
   },
   "source": [
    "## CustomDataset"
   ]
  },
  {
   "cell_type": "code",
   "execution_count": 12,
   "id": "16fd60a5-24e2-4539-bfd0-1c374a641699",
   "metadata": {
    "id": "16fd60a5-24e2-4539-bfd0-1c374a641699"
   },
   "outputs": [],
   "source": [
    "class CustomDataset(Dataset):\n",
    "    def __init__(self, img_path_list, label_list, transforms=None):\n",
    "        self.img_path_list = img_path_list\n",
    "        self.label_list = label_list\n",
    "        self.transforms = transforms #augmentation 포함\n",
    "\n",
    "    def __getitem__(self, index):\n",
    "        img_path = self.img_path_list[index]\n",
    "\n",
    "        image = cv2.imread(img_path)\n",
    "\n",
    "        if self.transforms is not None:\n",
    "            image = self.transforms(image=image)['image']\n",
    "\n",
    "        if self.label_list is not None:\n",
    "            label = self.label_list[index]\n",
    "            return image, label\n",
    "        else:\n",
    "            return image\n",
    "\n",
    "    def __len__(self):\n",
    "        return len(self.img_path_list)"
   ]
  },
  {
   "cell_type": "code",
   "execution_count": 13,
   "id": "340b4a8b-5d6c-413f-b8b6-066e91a660e5",
   "metadata": {
    "id": "340b4a8b-5d6c-413f-b8b6-066e91a660e5"
   },
   "outputs": [],
   "source": [
    "train_transform = A.Compose([\n",
    "    A.Resize(CFG['IMG_SIZE'], CFG['IMG_SIZE']),  # 299x299로 수정\n",
    "    A.Normalize(mean=(0.485, 0.456, 0.406), std=(0.229, 0.224, 0.225),\n",
    "                max_pixel_value=255.0, always_apply=True, p=1.0),\n",
    "    ToTensorV2()\n",
    "])\n",
    "\n",
    "test_transform = A.Compose([\n",
    "    A.Resize(CFG['IMG_SIZE'], CFG['IMG_SIZE']),\n",
    "    A.Normalize(mean=(0.485, 0.456, 0.406), std=(0.229, 0.224, 0.225),\n",
    "                max_pixel_value=255.0, always_apply=True, p=1.0),\n",
    "    ToTensorV2()\n",
    "])"
   ]
  },
  {
   "cell_type": "code",
   "execution_count": 14,
   "id": "9d880481-1965-499d-9caa-fdfa8526f789",
   "metadata": {
    "id": "9d880481-1965-499d-9caa-fdfa8526f789"
   },
   "outputs": [],
   "source": [
    "train_dataset = CustomDataset(train_df['path'].values, train_label_vec, train_transform)\n",
    "train_loader = DataLoader(train_dataset, batch_size = CFG['BATCH_SIZE'], shuffle=False, num_workers=0)\n",
    "\n",
    "val_dataset = CustomDataset(val_df['path'].values, val_label_vec, test_transform)\n",
    "val_loader = DataLoader(val_dataset, batch_size=CFG['BATCH_SIZE'], shuffle=False, num_workers=0)"
   ]
  },
  {
   "cell_type": "markdown",
   "id": "39962463-032f-490a-a76d-c03991795f38",
   "metadata": {
    "id": "39962463-032f-490a-a76d-c03991795f38"
   },
   "source": [
    "## Model Define"
   ]
  },
  {
   "cell_type": "code",
   "execution_count": 15,
   "id": "57c2730a",
   "metadata": {
    "colab": {
     "base_uri": "https://localhost:8080/"
    },
    "id": "57c2730a",
    "outputId": "08a3cd9d-3743-4641-cbf6-4e21e5d904e7"
   },
   "outputs": [
    {
     "name": "stdout",
     "output_type": "stream",
     "text": [
      "Defaulting to user installation because normal site-packages is not writeable\n",
      "Looking in indexes: https://pypi.org/simple, https://pypi.ngc.nvidia.com\n",
      "Collecting timm\n",
      "  Downloading timm-1.0.11-py3-none-any.whl.metadata (48 kB)\n",
      "\u001b[2K     \u001b[90m━━━━━━━━━━━━━━━━━━━━━━━━━━━━━━━━━━━━━━━━\u001b[0m \u001b[32m48.4/48.4 kB\u001b[0m \u001b[31m4.0 MB/s\u001b[0m eta \u001b[36m0:00:00\u001b[0m\n",
      "\u001b[?25hRequirement already satisfied: torch in /usr/local/lib/python3.10/dist-packages (from timm) (2.2.0a0+81ea7a4)\n",
      "Requirement already satisfied: torchvision in /usr/local/lib/python3.10/dist-packages (from timm) (0.17.0a0)\n",
      "Requirement already satisfied: pyyaml in /usr/local/lib/python3.10/dist-packages (from timm) (6.0.1)\n",
      "Requirement already satisfied: huggingface_hub in /usr/local/lib/python3.10/dist-packages (from timm) (0.20.3)\n",
      "Requirement already satisfied: safetensors in /usr/local/lib/python3.10/dist-packages (from timm) (0.4.2)\n",
      "Requirement already satisfied: filelock in /usr/local/lib/python3.10/dist-packages (from huggingface_hub->timm) (3.11.0)\n",
      "Requirement already satisfied: fsspec>=2023.5.0 in /usr/local/lib/python3.10/dist-packages (from huggingface_hub->timm) (2023.10.0)\n",
      "Requirement already satisfied: requests in /usr/local/lib/python3.10/dist-packages (from huggingface_hub->timm) (2.31.0)\n",
      "Requirement already satisfied: tqdm>=4.42.1 in /usr/local/lib/python3.10/dist-packages (from huggingface_hub->timm) (4.66.1)\n",
      "Requirement already satisfied: typing-extensions>=3.7.4.3 in /usr/local/lib/python3.10/dist-packages (from huggingface_hub->timm) (4.9.0)\n",
      "Requirement already satisfied: packaging>=20.9 in /usr/local/lib/python3.10/dist-packages (from huggingface_hub->timm) (23.2)\n",
      "Requirement already satisfied: sympy in /usr/local/lib/python3.10/dist-packages (from torch->timm) (1.12)\n",
      "Requirement already satisfied: networkx in /usr/local/lib/python3.10/dist-packages (from torch->timm) (2.6.3)\n",
      "Requirement already satisfied: jinja2 in /usr/local/lib/python3.10/dist-packages (from torch->timm) (3.1.3)\n",
      "Requirement already satisfied: numpy in /usr/local/lib/python3.10/dist-packages (from torchvision->timm) (1.24.4)\n",
      "Requirement already satisfied: pillow!=8.3.*,>=5.3.0 in /usr/local/lib/python3.10/dist-packages (from torchvision->timm) (10.2.0)\n",
      "Requirement already satisfied: MarkupSafe>=2.0 in /usr/local/lib/python3.10/dist-packages (from jinja2->torch->timm) (2.0.1)\n",
      "Requirement already satisfied: charset-normalizer<4,>=2 in /usr/local/lib/python3.10/dist-packages (from requests->huggingface_hub->timm) (3.3.2)\n",
      "Requirement already satisfied: idna<4,>=2.5 in /usr/local/lib/python3.10/dist-packages (from requests->huggingface_hub->timm) (3.6)\n",
      "Requirement already satisfied: urllib3<3,>=1.21.1 in /usr/local/lib/python3.10/dist-packages (from requests->huggingface_hub->timm) (1.26.18)\n",
      "Requirement already satisfied: certifi>=2017.4.17 in /usr/local/lib/python3.10/dist-packages (from requests->huggingface_hub->timm) (2023.11.17)\n",
      "Requirement already satisfied: mpmath>=0.19 in /usr/local/lib/python3.10/dist-packages (from sympy->torch->timm) (1.3.0)\n",
      "Downloading timm-1.0.11-py3-none-any.whl (2.3 MB)\n",
      "\u001b[2K   \u001b[90m━━━━━━━━━━━━━━━━━━━━━━━━━━━━━━━━━━━━━━━━\u001b[0m \u001b[32m2.3/2.3 MB\u001b[0m \u001b[31m14.7 MB/s\u001b[0m eta \u001b[36m0:00:00\u001b[0ma \u001b[36m0:00:01\u001b[0m\n",
      "\u001b[?25h\u001b[33mDEPRECATION: devscripts 2.22.1ubuntu1 has a non-standard version number. pip 24.0 will enforce this behaviour change. A possible replacement is to upgrade to a newer version of devscripts or contact the author to suggest that they release a version with a conforming version number. Discussion can be found at https://github.com/pypa/pip/issues/12063\u001b[0m\u001b[33m\n",
      "\u001b[0mInstalling collected packages: timm\n",
      "Successfully installed timm-1.0.11\n",
      "\n",
      "\u001b[1m[\u001b[0m\u001b[34;49mnotice\u001b[0m\u001b[1;39;49m]\u001b[0m\u001b[39;49m A new release of pip is available: \u001b[0m\u001b[31;49m23.3.2\u001b[0m\u001b[39;49m -> \u001b[0m\u001b[32;49m24.3.1\u001b[0m\n",
      "\u001b[1m[\u001b[0m\u001b[34;49mnotice\u001b[0m\u001b[1;39;49m]\u001b[0m\u001b[39;49m To update, run: \u001b[0m\u001b[32;49mpython -m pip install --upgrade pip\u001b[0m\n"
     ]
    }
   ],
   "source": [
    "! pip install timm"
   ]
  },
  {
   "cell_type": "code",
   "execution_count": 16,
   "id": "c58a99da",
   "metadata": {},
   "outputs": [],
   "source": [
    "import timm\n",
    "import torch.nn as nn\n",
    "\n",
    "class BaseModel(nn.Module):\n",
    "    def __init__(self, gene_size=CFG['label_size'], dropout_rate=0.5):\n",
    "        super(BaseModel, self).__init__()\n",
    "        \n",
    "        # Backbone: Inception-ResNet-V2\n",
    "        self.backbone = timm.create_model('inception_resnet_v2', pretrained=True)\n",
    "        \n",
    "        # Get the number of input features from the last layer\n",
    "        in_features = self.backbone.classif.in_features\n",
    "        \n",
    "        # Remove the original classification layer\n",
    "        self.backbone.classif = nn.Identity()\n",
    "        \n",
    "        # Regressor: Add dropout and activation function\n",
    "        self.regressor = nn.Sequential(\n",
    "            nn.SiLU(),  # Activation function\n",
    "            nn.Dropout(p=dropout_rate),  # Dropout layer\n",
    "            nn.Linear(in_features, gene_size)  # Linear regression layer\n",
    "        )\n",
    "        \n",
    "    def forward(self, x):\n",
    "        x = self.backbone(x)\n",
    "        x = self.regressor(x)\n",
    "        return x\n"
   ]
  },
  {
   "cell_type": "markdown",
   "id": "122af0aa-a1fd-4595-9488-35761e3cb596",
   "metadata": {
    "id": "122af0aa-a1fd-4595-9488-35761e3cb596"
   },
   "source": [
    "## Train"
   ]
  },
  {
   "cell_type": "code",
   "execution_count": 17,
   "id": "96b1c524-89fb-4ce8-a49f-067fd489f84a",
   "metadata": {
    "id": "96b1c524-89fb-4ce8-a49f-067fd489f84a"
   },
   "outputs": [],
   "source": [
    "def validation(model, criterion, val_loader, device):\n",
    "    model.eval()\n",
    "    val_loss = []\n",
    "\n",
    "    with torch.no_grad():\n",
    "        for imgs, labels in tqdm(iter(val_loader)):\n",
    "            imgs = imgs.float().to(device)\n",
    "            labels = labels.to(device)\n",
    "\n",
    "            pred = model(imgs)\n",
    "\n",
    "            loss = criterion(pred, labels)\n",
    "\n",
    "            val_loss.append(loss.item())\n",
    "\n",
    "        _val_loss = np.mean(val_loss)\n",
    "\n",
    "    return _val_loss"
   ]
  },
  {
   "cell_type": "code",
   "execution_count": 18,
   "id": "a17df6b3-16c9-44dd-b0fd-ffb501fee749",
   "metadata": {
    "id": "a17df6b3-16c9-44dd-b0fd-ffb501fee749"
   },
   "outputs": [],
   "source": [
    "def train(model, optimizer, train_loader, val_loader, scheduler, device):\n",
    "    model.to(device)\n",
    "    criterion = nn.MSELoss().to(device)\n",
    "\n",
    "    history = {'train_loss': [], 'val_loss': []}\n",
    "\n",
    "    best_loss = 99999999\n",
    "    best_model = None\n",
    "\n",
    "    for epoch in range(1, CFG['EPOCHS']+1):\n",
    "        model.train()\n",
    "        train_loss = []\n",
    "        for imgs, labels in tqdm(iter(train_loader)):\n",
    "            imgs = imgs.float().to(device)\n",
    "            labels = labels.to(device)\n",
    "\n",
    "            optimizer.zero_grad()\n",
    "\n",
    "            output = model(imgs)\n",
    "            loss = criterion(output, labels)\n",
    "\n",
    "            loss.backward()\n",
    "            optimizer.step()\n",
    "\n",
    "            train_loss.append(loss.item())\n",
    "\n",
    "        _train_loss = np.mean(train_loss)\n",
    "        _val_loss = validation(model, criterion, val_loader, device)\n",
    "\n",
    "        history['train_loss'].append(_train_loss)\n",
    "        history['val_loss'].append(_val_loss)\n",
    "\n",
    "        print(f'Epoch [{epoch}], Train Loss : [{_train_loss:.5f}] Val Loss : [{_val_loss:.5f}]')\n",
    "\n",
    "        if scheduler is not None:\n",
    "            scheduler.step(_val_loss)\n",
    "\n",
    "        if best_loss > _val_loss:\n",
    "            best_loss = _val_loss\n",
    "            best_model = model\n",
    "\n",
    "    return best_model, history"
   ]
  },
  {
   "cell_type": "markdown",
   "id": "51da39f9-904f-4abd-a7d2-cdf29c4a6c24",
   "metadata": {
    "id": "51da39f9-904f-4abd-a7d2-cdf29c4a6c24"
   },
   "source": [
    "## Run!!"
   ]
  },
  {
   "cell_type": "code",
   "execution_count": 19,
   "id": "f5tjRFyT-jAT",
   "metadata": {
    "id": "f5tjRFyT-jAT"
   },
   "outputs": [],
   "source": [
    "# 1. 이미지 파일의 기본 경로 지정\n",
    "base_path = \"./open2/\"  # train.csv 파일이 위치한 폴더로 변경\n",
    "\n",
    "# 2. 데이터프레임의 이미지 경로를 절대 경로로 업데이트\n",
    "train_df['path'] = base_path + train_df['path'].astype(str)\n",
    "val_df['path'] = base_path + val_df['path'].astype(str)\n",
    "\n",
    "train_dataset = CustomDataset(train_df['path'].values, train_label_vec, train_transform)\n",
    "val_dataset = CustomDataset(val_df['path'].values, val_label_vec, test_transform)"
   ]
  },
  {
   "cell_type": "code",
   "execution_count": 20,
   "id": "06e92db2",
   "metadata": {},
   "outputs": [
    {
     "data": {
      "text/plain": [
       "0       ./open2/./train/TRAIN_0000.png\n",
       "1       ./open2/./train/TRAIN_0001.png\n",
       "2       ./open2/./train/TRAIN_0002.png\n",
       "3       ./open2/./train/TRAIN_0003.png\n",
       "4       ./open2/./train/TRAIN_0004.png\n",
       "                     ...              \n",
       "5588    ./open2/./train/TRAIN_5588.png\n",
       "5589    ./open2/./train/TRAIN_5589.png\n",
       "5590    ./open2/./train/TRAIN_5590.png\n",
       "5591    ./open2/./train/TRAIN_5591.png\n",
       "5592    ./open2/./train/TRAIN_5592.png\n",
       "Name: path, Length: 5593, dtype: object"
      ]
     },
     "execution_count": 20,
     "metadata": {},
     "output_type": "execute_result"
    }
   ],
   "source": [
    "train_df[\"path\"]"
   ]
  },
  {
   "cell_type": "markdown",
   "id": "BsbE1Rln-Wrw",
   "metadata": {
    "id": "BsbE1Rln-Wrw"
   },
   "source": [
    "## Optuna"
   ]
  },
  {
   "cell_type": "code",
   "execution_count": 21,
   "id": "kjoMO1YOAUVa",
   "metadata": {
    "colab": {
     "base_uri": "https://localhost:8080/"
    },
    "id": "kjoMO1YOAUVa",
    "outputId": "4db3812f-cc1a-4ee6-eb07-d4f8331ed2e2"
   },
   "outputs": [
    {
     "name": "stdout",
     "output_type": "stream",
     "text": [
      "Defaulting to user installation because normal site-packages is not writeable\n",
      "Looking in indexes: https://pypi.org/simple, https://pypi.ngc.nvidia.com\n",
      "Collecting optuna\n",
      "  Downloading optuna-4.1.0-py3-none-any.whl.metadata (16 kB)\n",
      "Requirement already satisfied: alembic>=1.5.0 in /usr/local/lib/python3.10/dist-packages (from optuna) (1.7.6)\n",
      "Collecting colorlog (from optuna)\n",
      "  Downloading colorlog-6.9.0-py3-none-any.whl.metadata (10 kB)\n",
      "Requirement already satisfied: numpy in /usr/local/lib/python3.10/dist-packages (from optuna) (1.24.4)\n",
      "Requirement already satisfied: packaging>=20.0 in /usr/local/lib/python3.10/dist-packages (from optuna) (23.2)\n",
      "Requirement already satisfied: sqlalchemy>=1.4.2 in /usr/local/lib/python3.10/dist-packages (from optuna) (1.4.36)\n",
      "Requirement already satisfied: tqdm in /usr/local/lib/python3.10/dist-packages (from optuna) (4.66.1)\n",
      "Requirement already satisfied: PyYAML in /usr/local/lib/python3.10/dist-packages (from optuna) (6.0.1)\n",
      "Requirement already satisfied: Mako in /usr/lib/python3/dist-packages (from alembic>=1.5.0->optuna) (1.1.3)\n",
      "Requirement already satisfied: greenlet!=0.4.17 in /usr/local/lib/python3.10/dist-packages (from sqlalchemy>=1.4.2->optuna) (1.1.2)\n",
      "Downloading optuna-4.1.0-py3-none-any.whl (364 kB)\n",
      "\u001b[2K   \u001b[90m━━━━━━━━━━━━━━━━━━━━━━━━━━━━━━━━━━━━━━━━\u001b[0m \u001b[32m364.4/364.4 kB\u001b[0m \u001b[31m32.1 MB/s\u001b[0m eta \u001b[36m0:00:00\u001b[0m\n",
      "\u001b[?25hDownloading colorlog-6.9.0-py3-none-any.whl (11 kB)\n",
      "\u001b[33mDEPRECATION: devscripts 2.22.1ubuntu1 has a non-standard version number. pip 24.0 will enforce this behaviour change. A possible replacement is to upgrade to a newer version of devscripts or contact the author to suggest that they release a version with a conforming version number. Discussion can be found at https://github.com/pypa/pip/issues/12063\u001b[0m\u001b[33m\n",
      "\u001b[0mInstalling collected packages: colorlog, optuna\n",
      "Successfully installed colorlog-6.9.0 optuna-4.1.0\n",
      "\n",
      "\u001b[1m[\u001b[0m\u001b[34;49mnotice\u001b[0m\u001b[1;39;49m]\u001b[0m\u001b[39;49m A new release of pip is available: \u001b[0m\u001b[31;49m23.3.2\u001b[0m\u001b[39;49m -> \u001b[0m\u001b[32;49m24.3.1\u001b[0m\n",
      "\u001b[1m[\u001b[0m\u001b[34;49mnotice\u001b[0m\u001b[1;39;49m]\u001b[0m\u001b[39;49m To update, run: \u001b[0m\u001b[32;49mpython -m pip install --upgrade pip\u001b[0m\n"
     ]
    }
   ],
   "source": [
    "!pip install optuna"
   ]
  },
  {
   "cell_type": "code",
   "execution_count": 22,
   "id": "bc75182c",
   "metadata": {},
   "outputs": [],
   "source": [
    "import optuna\n",
    "from optuna.trial import TrialState\n",
    "\n",
    "# Optuna objective function\n",
    "def objective(trial):\n",
    "    # 하이퍼파라미터 샘플링\n",
    "    learning_rate = trial.suggest_loguniform('learning_rate', 1e-5, 1e-2)\n",
    "\n",
    "    # 데이터 로더 업데이트\n",
    "    train_loader = DataLoader(\n",
    "        train_dataset, batch_size=CFG['BATCH_SIZE'], shuffle=True, num_workers=0\n",
    "    )\n",
    "    val_loader = DataLoader(\n",
    "        val_dataset, batch_size=CFG['BATCH_SIZE'], shuffle=False, num_workers=0\n",
    "    )\n",
    "\n",
    "    # 모델, 옵티마이저, 스케줄러 설정\n",
    "    model = BaseModel()\n",
    "    model.to(device)\n",
    "    optimizer = torch.optim.Adam(params=model.parameters(), lr=learning_rate)\n",
    "    scheduler = torch.optim.lr_scheduler.ReduceLROnPlateau(\n",
    "        optimizer, mode='min', factor=0.5, patience=2,\n",
    "        threshold_mode='abs', min_lr=1e-8, verbose=False\n",
    "    )\n",
    "\n",
    "    # 모델 학습\n",
    "    _, history = train(model, optimizer, train_loader, val_loader, scheduler, device)\n",
    "\n",
    "    # 검증 손실의 마지막 값을 반환 (최소화 대상)\n",
    "    return min(history['val_loss'])"
   ]
  },
  {
   "cell_type": "code",
   "execution_count": 23,
   "id": "RpYVyOGC-hbP",
   "metadata": {
    "id": "RpYVyOGC-hbP"
   },
   "outputs": [],
   "source": [
    "def optimize_hyperparameters():\n",
    "    study = optuna.create_study(direction='minimize')\n",
    "    study.optimize(objective, n_trials=10)  # 시도 횟수 설정\n",
    "\n",
    "    # 최적의 하이퍼파라미터 출력\n",
    "    print(\"Best trial:\")\n",
    "    print(f\"  Value: {study.best_trial.value}\")\n",
    "    print(\"  Params: \")\n",
    "    for key, value in study.best_trial.params.items():\n",
    "        print(f\"    {key}: {value}\")\n",
    "\n",
    "    return study.best_trial.params"
   ]
  },
  {
   "cell_type": "code",
   "execution_count": 24,
   "id": "OO0k6O_e-x9U",
   "metadata": {
    "colab": {
     "base_uri": "https://localhost:8080/",
     "height": 921,
     "referenced_widgets": [
      "91d6e38b573f490ebdfd44fa6509d1a3",
      "3ffb752e4078495dac53812e4a2b854c",
      "0080d80b5170496987dc08a744013d8f",
      "8571e5f75d1f496ab17bc587094e3efd",
      "f2b07285924945e88d31ea8f75d02415",
      "7a6496d917c044ee8e7f158b1c9f2217",
      "0a6d611edfdc47298c856d40421af7f9",
      "45f9a669a3454d389cf18be91707ec00",
      "79f7346138574fb79e5d3106dba89b38",
      "56ebcc5bea0b4206b84de19da2b3cbd8",
      "2f007c979b8643539d7936400dead76b"
     ]
    },
    "id": "OO0k6O_e-x9U",
    "outputId": "499902ef-e960-4479-ebb4-656a5ff0798d"
   },
   "outputs": [
    {
     "name": "stderr",
     "output_type": "stream",
     "text": [
      "[I 2024-11-22 14:18:56,527] A new study created in memory with name: no-name-39b39b6e-a3cd-49c2-b4c7-b3cc6c112397\n"
     ]
    },
    {
     "data": {
      "application/vnd.jupyter.widget-view+json": {
       "model_id": "5d6310dd206e442c898d92f92359bfd5",
       "version_major": 2,
       "version_minor": 0
      },
      "text/plain": [
       "model.safetensors:   0%|          | 0.00/224M [00:00<?, ?B/s]"
      ]
     },
     "metadata": {},
     "output_type": "display_data"
    },
    {
     "name": "stderr",
     "output_type": "stream",
     "text": [
      "100% 175/175 [02:05<00:00,  1.39it/s]\n",
      "100% 44/44 [00:18<00:00,  2.44it/s]\n"
     ]
    },
    {
     "name": "stdout",
     "output_type": "stream",
     "text": [
      "Epoch [1], Train Loss : [0.11098] Val Loss : [0.05878]\n"
     ]
    },
    {
     "name": "stderr",
     "output_type": "stream",
     "text": [
      "100% 175/175 [01:37<00:00,  1.79it/s]\n",
      "100% 44/44 [00:13<00:00,  3.27it/s]\n"
     ]
    },
    {
     "name": "stdout",
     "output_type": "stream",
     "text": [
      "Epoch [2], Train Loss : [0.06531] Val Loss : [0.05013]\n"
     ]
    },
    {
     "name": "stderr",
     "output_type": "stream",
     "text": [
      "100% 175/175 [01:37<00:00,  1.79it/s]\n",
      "100% 44/44 [00:13<00:00,  3.30it/s]\n"
     ]
    },
    {
     "name": "stdout",
     "output_type": "stream",
     "text": [
      "Epoch [3], Train Loss : [0.05849] Val Loss : [0.04812]\n"
     ]
    },
    {
     "name": "stderr",
     "output_type": "stream",
     "text": [
      "100% 175/175 [01:37<00:00,  1.80it/s]\n",
      "100% 44/44 [00:13<00:00,  3.27it/s]\n"
     ]
    },
    {
     "name": "stdout",
     "output_type": "stream",
     "text": [
      "Epoch [4], Train Loss : [0.05542] Val Loss : [0.04785]\n"
     ]
    },
    {
     "name": "stderr",
     "output_type": "stream",
     "text": [
      "100% 175/175 [01:37<00:00,  1.79it/s]\n",
      "100% 44/44 [00:13<00:00,  3.30it/s]\n"
     ]
    },
    {
     "name": "stdout",
     "output_type": "stream",
     "text": [
      "Epoch [5], Train Loss : [0.05351] Val Loss : [0.04718]\n"
     ]
    },
    {
     "name": "stderr",
     "output_type": "stream",
     "text": [
      "100% 175/175 [01:37<00:00,  1.80it/s]\n",
      "100% 44/44 [00:13<00:00,  3.30it/s]\n"
     ]
    },
    {
     "name": "stdout",
     "output_type": "stream",
     "text": [
      "Epoch [6], Train Loss : [0.05225] Val Loss : [0.04681]\n"
     ]
    },
    {
     "name": "stderr",
     "output_type": "stream",
     "text": [
      "100% 175/175 [01:37<00:00,  1.80it/s]\n",
      "100% 44/44 [00:13<00:00,  3.30it/s]\n"
     ]
    },
    {
     "name": "stdout",
     "output_type": "stream",
     "text": [
      "Epoch [7], Train Loss : [0.05133] Val Loss : [0.04668]\n"
     ]
    },
    {
     "name": "stderr",
     "output_type": "stream",
     "text": [
      "100% 175/175 [01:37<00:00,  1.80it/s]\n",
      "100% 44/44 [00:13<00:00,  3.31it/s]\n"
     ]
    },
    {
     "name": "stdout",
     "output_type": "stream",
     "text": [
      "Epoch [8], Train Loss : [0.05063] Val Loss : [0.04651]\n"
     ]
    },
    {
     "name": "stderr",
     "output_type": "stream",
     "text": [
      "100% 175/175 [01:37<00:00,  1.80it/s]\n",
      "100% 44/44 [00:13<00:00,  3.30it/s]\n"
     ]
    },
    {
     "name": "stdout",
     "output_type": "stream",
     "text": [
      "Epoch [9], Train Loss : [0.05003] Val Loss : [0.04648]\n"
     ]
    },
    {
     "name": "stderr",
     "output_type": "stream",
     "text": [
      "100% 175/175 [01:37<00:00,  1.80it/s]\n",
      "100% 44/44 [00:13<00:00,  3.31it/s]\n",
      "[I 2024-11-22 14:38:00,410] Trial 0 finished with value: 0.04630762795833024 and parameters: {'learning_rate': 3.2959361829873207e-05}. Best is trial 0 with value: 0.04630762795833024.\n"
     ]
    },
    {
     "name": "stdout",
     "output_type": "stream",
     "text": [
      "Epoch [10], Train Loss : [0.04950] Val Loss : [0.04631]\n"
     ]
    },
    {
     "name": "stderr",
     "output_type": "stream",
     "text": [
      "100% 175/175 [01:34<00:00,  1.86it/s]\n",
      "100% 44/44 [00:12<00:00,  3.55it/s]\n"
     ]
    },
    {
     "name": "stdout",
     "output_type": "stream",
     "text": [
      "Epoch [1], Train Loss : [0.05600] Val Loss : [0.06722]\n"
     ]
    },
    {
     "name": "stderr",
     "output_type": "stream",
     "text": [
      "100% 175/175 [01:33<00:00,  1.86it/s]\n",
      "100% 44/44 [00:12<00:00,  3.50it/s]\n"
     ]
    },
    {
     "name": "stdout",
     "output_type": "stream",
     "text": [
      "Epoch [2], Train Loss : [0.04840] Val Loss : [0.04731]\n"
     ]
    },
    {
     "name": "stderr",
     "output_type": "stream",
     "text": [
      "100% 175/175 [01:34<00:00,  1.86it/s]\n",
      "100% 44/44 [00:12<00:00,  3.54it/s]\n"
     ]
    },
    {
     "name": "stdout",
     "output_type": "stream",
     "text": [
      "Epoch [3], Train Loss : [0.04750] Val Loss : [10.09493]\n"
     ]
    },
    {
     "name": "stderr",
     "output_type": "stream",
     "text": [
      "100% 175/175 [01:34<00:00,  1.86it/s]\n",
      "100% 44/44 [00:12<00:00,  3.54it/s]\n"
     ]
    },
    {
     "name": "stdout",
     "output_type": "stream",
     "text": [
      "Epoch [4], Train Loss : [0.04740] Val Loss : [0.04603]\n"
     ]
    },
    {
     "name": "stderr",
     "output_type": "stream",
     "text": [
      "100% 175/175 [01:34<00:00,  1.86it/s]\n",
      "100% 44/44 [00:12<00:00,  3.52it/s]\n"
     ]
    },
    {
     "name": "stdout",
     "output_type": "stream",
     "text": [
      "Epoch [5], Train Loss : [0.04675] Val Loss : [0.04578]\n"
     ]
    },
    {
     "name": "stderr",
     "output_type": "stream",
     "text": [
      "100% 175/175 [01:33<00:00,  1.87it/s]\n",
      "100% 44/44 [00:12<00:00,  3.52it/s]\n"
     ]
    },
    {
     "name": "stdout",
     "output_type": "stream",
     "text": [
      "Epoch [6], Train Loss : [0.04649] Val Loss : [0.04588]\n"
     ]
    },
    {
     "name": "stderr",
     "output_type": "stream",
     "text": [
      "100% 175/175 [01:33<00:00,  1.87it/s]\n",
      "100% 44/44 [00:12<00:00,  3.54it/s]\n"
     ]
    },
    {
     "name": "stdout",
     "output_type": "stream",
     "text": [
      "Epoch [7], Train Loss : [0.04628] Val Loss : [0.04600]\n"
     ]
    },
    {
     "name": "stderr",
     "output_type": "stream",
     "text": [
      "100% 175/175 [01:33<00:00,  1.86it/s]\n",
      "100% 44/44 [00:12<00:00,  3.52it/s]\n"
     ]
    },
    {
     "name": "stdout",
     "output_type": "stream",
     "text": [
      "Epoch [8], Train Loss : [0.04603] Val Loss : [0.04581]\n"
     ]
    },
    {
     "name": "stderr",
     "output_type": "stream",
     "text": [
      "100% 175/175 [01:33<00:00,  1.86it/s]\n",
      "100% 44/44 [00:12<00:00,  3.54it/s]\n"
     ]
    },
    {
     "name": "stdout",
     "output_type": "stream",
     "text": [
      "Epoch [9], Train Loss : [0.04548] Val Loss : [0.04553]\n"
     ]
    },
    {
     "name": "stderr",
     "output_type": "stream",
     "text": [
      "100% 175/175 [01:33<00:00,  1.87it/s]\n",
      "100% 44/44 [00:12<00:00,  3.54it/s]\n",
      "[I 2024-11-22 14:55:45,476] Trial 1 finished with value: 0.045531538569114426 and parameters: {'learning_rate': 0.000762730617772347}. Best is trial 1 with value: 0.045531538569114426.\n"
     ]
    },
    {
     "name": "stdout",
     "output_type": "stream",
     "text": [
      "Epoch [10], Train Loss : [0.04524] Val Loss : [0.04568]\n"
     ]
    },
    {
     "name": "stderr",
     "output_type": "stream",
     "text": [
      "100% 175/175 [01:34<00:00,  1.84it/s]\n",
      "100% 44/44 [00:12<00:00,  3.51it/s]\n"
     ]
    },
    {
     "name": "stdout",
     "output_type": "stream",
     "text": [
      "Epoch [1], Train Loss : [0.07376] Val Loss : [0.08955]\n"
     ]
    },
    {
     "name": "stderr",
     "output_type": "stream",
     "text": [
      "100% 175/175 [01:33<00:00,  1.86it/s]\n",
      "100% 44/44 [00:12<00:00,  3.50it/s]\n"
     ]
    },
    {
     "name": "stdout",
     "output_type": "stream",
     "text": [
      "Epoch [2], Train Loss : [0.05235] Val Loss : [0.04806]\n"
     ]
    },
    {
     "name": "stderr",
     "output_type": "stream",
     "text": [
      "100% 175/175 [01:35<00:00,  1.82it/s]\n",
      "100% 44/44 [00:12<00:00,  3.43it/s]\n"
     ]
    },
    {
     "name": "stdout",
     "output_type": "stream",
     "text": [
      "Epoch [3], Train Loss : [0.04999] Val Loss : [0.04705]\n"
     ]
    },
    {
     "name": "stderr",
     "output_type": "stream",
     "text": [
      "100% 175/175 [01:35<00:00,  1.83it/s]\n",
      "100% 44/44 [00:12<00:00,  3.45it/s]\n"
     ]
    },
    {
     "name": "stdout",
     "output_type": "stream",
     "text": [
      "Epoch [4], Train Loss : [0.04873] Val Loss : [0.04677]\n"
     ]
    },
    {
     "name": "stderr",
     "output_type": "stream",
     "text": [
      "100% 175/175 [01:34<00:00,  1.85it/s]\n",
      "100% 44/44 [00:12<00:00,  3.48it/s]\n"
     ]
    },
    {
     "name": "stdout",
     "output_type": "stream",
     "text": [
      "Epoch [5], Train Loss : [0.04798] Val Loss : [0.04593]\n"
     ]
    },
    {
     "name": "stderr",
     "output_type": "stream",
     "text": [
      "100% 175/175 [01:34<00:00,  1.86it/s]\n",
      "100% 44/44 [00:12<00:00,  3.50it/s]\n"
     ]
    },
    {
     "name": "stdout",
     "output_type": "stream",
     "text": [
      "Epoch [6], Train Loss : [0.04731] Val Loss : [0.56413]\n"
     ]
    },
    {
     "name": "stderr",
     "output_type": "stream",
     "text": [
      "100% 175/175 [01:34<00:00,  1.85it/s]\n",
      "100% 44/44 [00:12<00:00,  3.55it/s]\n"
     ]
    },
    {
     "name": "stdout",
     "output_type": "stream",
     "text": [
      "Epoch [7], Train Loss : [0.04667] Val Loss : [0.09122]\n"
     ]
    },
    {
     "name": "stderr",
     "output_type": "stream",
     "text": [
      "100% 175/175 [01:34<00:00,  1.85it/s]\n",
      "100% 44/44 [00:12<00:00,  3.55it/s]\n"
     ]
    },
    {
     "name": "stdout",
     "output_type": "stream",
     "text": [
      "Epoch [8], Train Loss : [0.04626] Val Loss : [0.04688]\n"
     ]
    },
    {
     "name": "stderr",
     "output_type": "stream",
     "text": [
      "100% 175/175 [01:34<00:00,  1.86it/s]\n",
      "100% 44/44 [00:12<00:00,  3.54it/s]\n"
     ]
    },
    {
     "name": "stdout",
     "output_type": "stream",
     "text": [
      "Epoch [9], Train Loss : [0.04583] Val Loss : [0.06211]\n"
     ]
    },
    {
     "name": "stderr",
     "output_type": "stream",
     "text": [
      "100% 175/175 [01:34<00:00,  1.85it/s]\n",
      "100% 44/44 [00:12<00:00,  3.51it/s]\n",
      "[I 2024-11-22 15:13:38,644] Trial 2 finished with value: 0.04593338216231628 and parameters: {'learning_rate': 0.0001347591567822456}. Best is trial 1 with value: 0.045531538569114426.\n"
     ]
    },
    {
     "name": "stdout",
     "output_type": "stream",
     "text": [
      "Epoch [10], Train Loss : [0.04561] Val Loss : [0.16119]\n"
     ]
    },
    {
     "name": "stderr",
     "output_type": "stream",
     "text": [
      "100% 175/175 [01:35<00:00,  1.84it/s]\n",
      "100% 44/44 [00:13<00:00,  3.37it/s]\n"
     ]
    },
    {
     "name": "stdout",
     "output_type": "stream",
     "text": [
      "Epoch [1], Train Loss : [0.05973] Val Loss : [0.33972]\n"
     ]
    },
    {
     "name": "stderr",
     "output_type": "stream",
     "text": [
      "100% 175/175 [01:35<00:00,  1.83it/s]\n",
      "100% 44/44 [00:12<00:00,  3.44it/s]\n"
     ]
    },
    {
     "name": "stdout",
     "output_type": "stream",
     "text": [
      "Epoch [2], Train Loss : [0.04967] Val Loss : [0.25409]\n"
     ]
    },
    {
     "name": "stderr",
     "output_type": "stream",
     "text": [
      "100% 175/175 [01:35<00:00,  1.84it/s]\n",
      "100% 44/44 [00:12<00:00,  3.47it/s]\n"
     ]
    },
    {
     "name": "stdout",
     "output_type": "stream",
     "text": [
      "Epoch [3], Train Loss : [0.04865] Val Loss : [0.05901]\n"
     ]
    },
    {
     "name": "stderr",
     "output_type": "stream",
     "text": [
      "100% 175/175 [01:34<00:00,  1.85it/s]\n",
      "100% 44/44 [00:12<00:00,  3.45it/s]\n"
     ]
    },
    {
     "name": "stdout",
     "output_type": "stream",
     "text": [
      "Epoch [4], Train Loss : [0.04901] Val Loss : [0.04772]\n"
     ]
    },
    {
     "name": "stderr",
     "output_type": "stream",
     "text": [
      "100% 175/175 [01:35<00:00,  1.84it/s]\n",
      "100% 44/44 [00:12<00:00,  3.42it/s]\n"
     ]
    },
    {
     "name": "stdout",
     "output_type": "stream",
     "text": [
      "Epoch [5], Train Loss : [0.04851] Val Loss : [0.04704]\n"
     ]
    },
    {
     "name": "stderr",
     "output_type": "stream",
     "text": [
      "100% 175/175 [01:34<00:00,  1.85it/s]\n",
      "100% 44/44 [00:12<00:00,  3.44it/s]\n"
     ]
    },
    {
     "name": "stdout",
     "output_type": "stream",
     "text": [
      "Epoch [6], Train Loss : [0.04784] Val Loss : [0.04674]\n"
     ]
    },
    {
     "name": "stderr",
     "output_type": "stream",
     "text": [
      "100% 175/175 [01:34<00:00,  1.85it/s]\n",
      "100% 44/44 [00:12<00:00,  3.48it/s]\n"
     ]
    },
    {
     "name": "stdout",
     "output_type": "stream",
     "text": [
      "Epoch [7], Train Loss : [0.04852] Val Loss : [0.04707]\n"
     ]
    },
    {
     "name": "stderr",
     "output_type": "stream",
     "text": [
      "100% 175/175 [01:34<00:00,  1.86it/s]\n",
      "100% 44/44 [00:12<00:00,  3.50it/s]\n"
     ]
    },
    {
     "name": "stdout",
     "output_type": "stream",
     "text": [
      "Epoch [8], Train Loss : [0.04814] Val Loss : [0.04711]\n"
     ]
    },
    {
     "name": "stderr",
     "output_type": "stream",
     "text": [
      "100% 175/175 [01:34<00:00,  1.86it/s]\n",
      "100% 44/44 [00:12<00:00,  3.52it/s]\n"
     ]
    },
    {
     "name": "stdout",
     "output_type": "stream",
     "text": [
      "Epoch [9], Train Loss : [0.04777] Val Loss : [0.04678]\n"
     ]
    },
    {
     "name": "stderr",
     "output_type": "stream",
     "text": [
      "100% 175/175 [01:34<00:00,  1.86it/s]\n",
      "100% 44/44 [00:12<00:00,  3.51it/s]\n",
      "[I 2024-11-22 15:31:34,638] Trial 3 finished with value: 0.046627970073710785 and parameters: {'learning_rate': 0.0035948536440625132}. Best is trial 1 with value: 0.045531538569114426.\n"
     ]
    },
    {
     "name": "stdout",
     "output_type": "stream",
     "text": [
      "Epoch [10], Train Loss : [0.04732] Val Loss : [0.04663]\n"
     ]
    },
    {
     "name": "stderr",
     "output_type": "stream",
     "text": [
      "100% 175/175 [01:33<00:00,  1.87it/s]\n",
      "100% 44/44 [00:12<00:00,  3.52it/s]\n"
     ]
    },
    {
     "name": "stdout",
     "output_type": "stream",
     "text": [
      "Epoch [1], Train Loss : [0.05654] Val Loss : [6.49758]\n"
     ]
    },
    {
     "name": "stderr",
     "output_type": "stream",
     "text": [
      "100% 175/175 [01:33<00:00,  1.86it/s]\n",
      "100% 44/44 [00:12<00:00,  3.49it/s]\n"
     ]
    },
    {
     "name": "stdout",
     "output_type": "stream",
     "text": [
      "Epoch [2], Train Loss : [0.04847] Val Loss : [0.04703]\n"
     ]
    },
    {
     "name": "stderr",
     "output_type": "stream",
     "text": [
      "100% 175/175 [01:34<00:00,  1.85it/s]\n",
      "100% 44/44 [00:12<00:00,  3.52it/s]\n"
     ]
    },
    {
     "name": "stdout",
     "output_type": "stream",
     "text": [
      "Epoch [3], Train Loss : [0.04755] Val Loss : [0.04624]\n"
     ]
    },
    {
     "name": "stderr",
     "output_type": "stream",
     "text": [
      "100% 175/175 [01:33<00:00,  1.86it/s]\n",
      "100% 44/44 [00:12<00:00,  3.54it/s]\n"
     ]
    },
    {
     "name": "stdout",
     "output_type": "stream",
     "text": [
      "Epoch [4], Train Loss : [0.04707] Val Loss : [0.32924]\n"
     ]
    },
    {
     "name": "stderr",
     "output_type": "stream",
     "text": [
      "100% 175/175 [01:33<00:00,  1.86it/s]\n",
      "100% 44/44 [00:12<00:00,  3.53it/s]\n"
     ]
    },
    {
     "name": "stdout",
     "output_type": "stream",
     "text": [
      "Epoch [5], Train Loss : [0.04704] Val Loss : [0.04608]\n"
     ]
    },
    {
     "name": "stderr",
     "output_type": "stream",
     "text": [
      "100% 175/175 [01:33<00:00,  1.86it/s]\n",
      "100% 44/44 [00:12<00:00,  3.52it/s]\n"
     ]
    },
    {
     "name": "stdout",
     "output_type": "stream",
     "text": [
      "Epoch [6], Train Loss : [0.04681] Val Loss : [0.04597]\n"
     ]
    },
    {
     "name": "stderr",
     "output_type": "stream",
     "text": [
      "100% 175/175 [01:34<00:00,  1.86it/s]\n",
      "100% 44/44 [00:12<00:00,  3.44it/s]\n"
     ]
    },
    {
     "name": "stdout",
     "output_type": "stream",
     "text": [
      "Epoch [7], Train Loss : [0.04655] Val Loss : [0.04617]\n"
     ]
    },
    {
     "name": "stderr",
     "output_type": "stream",
     "text": [
      "100% 175/175 [01:35<00:00,  1.84it/s]\n",
      "100% 44/44 [00:12<00:00,  3.46it/s]\n"
     ]
    },
    {
     "name": "stdout",
     "output_type": "stream",
     "text": [
      "Epoch [8], Train Loss : [0.04642] Val Loss : [0.04587]\n"
     ]
    },
    {
     "name": "stderr",
     "output_type": "stream",
     "text": [
      "100% 175/175 [01:34<00:00,  1.85it/s]\n",
      "100% 44/44 [00:12<00:00,  3.51it/s]\n"
     ]
    },
    {
     "name": "stdout",
     "output_type": "stream",
     "text": [
      "Epoch [9], Train Loss : [0.04626] Val Loss : [0.04577]\n"
     ]
    },
    {
     "name": "stderr",
     "output_type": "stream",
     "text": [
      "100% 175/175 [01:34<00:00,  1.86it/s]\n",
      "100% 44/44 [00:12<00:00,  3.49it/s]\n",
      "[I 2024-11-22 15:49:23,174] Trial 4 finished with value: 0.04576725546609272 and parameters: {'learning_rate': 0.0006357719514731399}. Best is trial 1 with value: 0.045531538569114426.\n"
     ]
    },
    {
     "name": "stdout",
     "output_type": "stream",
     "text": [
      "Epoch [10], Train Loss : [0.04620] Val Loss : [0.04631]\n"
     ]
    },
    {
     "name": "stderr",
     "output_type": "stream",
     "text": [
      "100% 175/175 [01:34<00:00,  1.85it/s]\n",
      "100% 44/44 [00:12<00:00,  3.50it/s]\n"
     ]
    },
    {
     "name": "stdout",
     "output_type": "stream",
     "text": [
      "Epoch [1], Train Loss : [0.06946] Val Loss : [0.04699]\n"
     ]
    },
    {
     "name": "stderr",
     "output_type": "stream",
     "text": [
      "100% 175/175 [01:34<00:00,  1.86it/s]\n",
      "100% 44/44 [00:12<00:00,  3.48it/s]\n"
     ]
    },
    {
     "name": "stdout",
     "output_type": "stream",
     "text": [
      "Epoch [2], Train Loss : [0.05129] Val Loss : [0.11150]\n"
     ]
    },
    {
     "name": "stderr",
     "output_type": "stream",
     "text": [
      "100% 175/175 [01:34<00:00,  1.86it/s]\n",
      "100% 44/44 [00:12<00:00,  3.51it/s]\n"
     ]
    },
    {
     "name": "stdout",
     "output_type": "stream",
     "text": [
      "Epoch [3], Train Loss : [0.04926] Val Loss : [0.06659]\n"
     ]
    },
    {
     "name": "stderr",
     "output_type": "stream",
     "text": [
      "100% 175/175 [01:34<00:00,  1.86it/s]\n",
      "100% 44/44 [00:12<00:00,  3.49it/s]\n"
     ]
    },
    {
     "name": "stdout",
     "output_type": "stream",
     "text": [
      "Epoch [4], Train Loss : [0.04823] Val Loss : [0.04725]\n"
     ]
    },
    {
     "name": "stderr",
     "output_type": "stream",
     "text": [
      "100% 175/175 [01:35<00:00,  1.84it/s]\n",
      "100% 44/44 [00:12<00:00,  3.42it/s]\n"
     ]
    },
    {
     "name": "stdout",
     "output_type": "stream",
     "text": [
      "Epoch [5], Train Loss : [0.04748] Val Loss : [0.04583]\n"
     ]
    },
    {
     "name": "stderr",
     "output_type": "stream",
     "text": [
      "100% 175/175 [01:37<00:00,  1.80it/s]\n",
      "100% 44/44 [00:13<00:00,  3.34it/s]\n"
     ]
    },
    {
     "name": "stdout",
     "output_type": "stream",
     "text": [
      "Epoch [6], Train Loss : [0.04698] Val Loss : [0.04633]\n"
     ]
    },
    {
     "name": "stderr",
     "output_type": "stream",
     "text": [
      "100% 175/175 [01:35<00:00,  1.84it/s]\n",
      "100% 44/44 [00:12<00:00,  3.51it/s]\n"
     ]
    },
    {
     "name": "stdout",
     "output_type": "stream",
     "text": [
      "Epoch [7], Train Loss : [0.04646] Val Loss : [0.20415]\n"
     ]
    },
    {
     "name": "stderr",
     "output_type": "stream",
     "text": [
      "100% 175/175 [01:34<00:00,  1.86it/s]\n",
      "100% 44/44 [00:12<00:00,  3.48it/s]\n"
     ]
    },
    {
     "name": "stdout",
     "output_type": "stream",
     "text": [
      "Epoch [8], Train Loss : [0.04615] Val Loss : [0.04578]\n"
     ]
    },
    {
     "name": "stderr",
     "output_type": "stream",
     "text": [
      "100% 175/175 [01:34<00:00,  1.85it/s]\n",
      "100% 44/44 [00:12<00:00,  3.49it/s]\n"
     ]
    },
    {
     "name": "stdout",
     "output_type": "stream",
     "text": [
      "Epoch [9], Train Loss : [0.04584] Val Loss : [0.04565]\n"
     ]
    },
    {
     "name": "stderr",
     "output_type": "stream",
     "text": [
      "100% 175/175 [01:34<00:00,  1.85it/s]\n",
      "100% 44/44 [00:12<00:00,  3.49it/s]\n",
      "[I 2024-11-22 16:07:19,731] Trial 5 finished with value: 0.04565030310980298 and parameters: {'learning_rate': 0.0001699066601724918}. Best is trial 1 with value: 0.045531538569114426.\n"
     ]
    },
    {
     "name": "stdout",
     "output_type": "stream",
     "text": [
      "Epoch [10], Train Loss : [0.04568] Val Loss : [0.04759]\n"
     ]
    },
    {
     "name": "stderr",
     "output_type": "stream",
     "text": [
      "100% 175/175 [01:34<00:00,  1.85it/s]\n",
      "100% 44/44 [00:12<00:00,  3.51it/s]\n"
     ]
    },
    {
     "name": "stdout",
     "output_type": "stream",
     "text": [
      "Epoch [1], Train Loss : [0.15597] Val Loss : [0.11281]\n"
     ]
    },
    {
     "name": "stderr",
     "output_type": "stream",
     "text": [
      "100% 175/175 [01:34<00:00,  1.85it/s]\n",
      "100% 44/44 [00:12<00:00,  3.48it/s]\n"
     ]
    },
    {
     "name": "stdout",
     "output_type": "stream",
     "text": [
      "Epoch [2], Train Loss : [0.10320] Val Loss : [0.07058]\n"
     ]
    },
    {
     "name": "stderr",
     "output_type": "stream",
     "text": [
      "100% 175/175 [01:34<00:00,  1.85it/s]\n",
      "100% 44/44 [00:12<00:00,  3.52it/s]\n"
     ]
    },
    {
     "name": "stdout",
     "output_type": "stream",
     "text": [
      "Epoch [3], Train Loss : [0.08061] Val Loss : [0.05822]\n"
     ]
    },
    {
     "name": "stderr",
     "output_type": "stream",
     "text": [
      "100% 175/175 [01:34<00:00,  1.86it/s]\n",
      "100% 44/44 [00:12<00:00,  3.51it/s]\n"
     ]
    },
    {
     "name": "stdout",
     "output_type": "stream",
     "text": [
      "Epoch [4], Train Loss : [0.07149] Val Loss : [0.05356]\n"
     ]
    },
    {
     "name": "stderr",
     "output_type": "stream",
     "text": [
      "100% 175/175 [01:34<00:00,  1.86it/s]\n",
      "100% 44/44 [00:12<00:00,  3.51it/s]\n"
     ]
    },
    {
     "name": "stdout",
     "output_type": "stream",
     "text": [
      "Epoch [5], Train Loss : [0.06655] Val Loss : [0.05147]\n"
     ]
    },
    {
     "name": "stderr",
     "output_type": "stream",
     "text": [
      "100% 175/175 [01:34<00:00,  1.85it/s]\n",
      "100% 44/44 [00:12<00:00,  3.49it/s]\n"
     ]
    },
    {
     "name": "stdout",
     "output_type": "stream",
     "text": [
      "Epoch [6], Train Loss : [0.06338] Val Loss : [0.05057]\n"
     ]
    },
    {
     "name": "stderr",
     "output_type": "stream",
     "text": [
      "100% 175/175 [01:34<00:00,  1.86it/s]\n",
      "100% 44/44 [00:12<00:00,  3.46it/s]\n"
     ]
    },
    {
     "name": "stdout",
     "output_type": "stream",
     "text": [
      "Epoch [7], Train Loss : [0.06105] Val Loss : [0.05022]\n"
     ]
    },
    {
     "name": "stderr",
     "output_type": "stream",
     "text": [
      "100% 175/175 [01:34<00:00,  1.86it/s]\n",
      "100% 44/44 [00:12<00:00,  3.48it/s]\n"
     ]
    },
    {
     "name": "stdout",
     "output_type": "stream",
     "text": [
      "Epoch [8], Train Loss : [0.05928] Val Loss : [0.04894]\n"
     ]
    },
    {
     "name": "stderr",
     "output_type": "stream",
     "text": [
      "100% 175/175 [01:34<00:00,  1.86it/s]\n",
      "100% 44/44 [00:12<00:00,  3.50it/s]\n"
     ]
    },
    {
     "name": "stdout",
     "output_type": "stream",
     "text": [
      "Epoch [9], Train Loss : [0.05788] Val Loss : [0.04859]\n"
     ]
    },
    {
     "name": "stderr",
     "output_type": "stream",
     "text": [
      "100% 175/175 [01:34<00:00,  1.86it/s]\n",
      "100% 44/44 [00:12<00:00,  3.50it/s]\n",
      "[I 2024-11-22 16:25:09,672] Trial 6 finished with value: 0.04859046815809878 and parameters: {'learning_rate': 1.0024927724285483e-05}. Best is trial 1 with value: 0.045531538569114426.\n"
     ]
    },
    {
     "name": "stdout",
     "output_type": "stream",
     "text": [
      "Epoch [10], Train Loss : [0.05674] Val Loss : [0.04897]\n"
     ]
    },
    {
     "name": "stderr",
     "output_type": "stream",
     "text": [
      "100% 175/175 [01:34<00:00,  1.85it/s]\n",
      "100% 44/44 [00:12<00:00,  3.51it/s]\n"
     ]
    },
    {
     "name": "stdout",
     "output_type": "stream",
     "text": [
      "Epoch [1], Train Loss : [0.05535] Val Loss : [0.04721]\n"
     ]
    },
    {
     "name": "stderr",
     "output_type": "stream",
     "text": [
      "100% 175/175 [01:34<00:00,  1.85it/s]\n",
      "100% 44/44 [00:12<00:00,  3.49it/s]\n"
     ]
    },
    {
     "name": "stdout",
     "output_type": "stream",
     "text": [
      "Epoch [2], Train Loss : [0.04876] Val Loss : [0.04682]\n"
     ]
    },
    {
     "name": "stderr",
     "output_type": "stream",
     "text": [
      "100% 175/175 [01:34<00:00,  1.85it/s]\n",
      "100% 44/44 [00:12<00:00,  3.52it/s]\n"
     ]
    },
    {
     "name": "stdout",
     "output_type": "stream",
     "text": [
      "Epoch [3], Train Loss : [0.04847] Val Loss : [0.04638]\n"
     ]
    },
    {
     "name": "stderr",
     "output_type": "stream",
     "text": [
      "100% 175/175 [01:34<00:00,  1.86it/s]\n",
      "100% 44/44 [00:12<00:00,  3.52it/s]\n"
     ]
    },
    {
     "name": "stdout",
     "output_type": "stream",
     "text": [
      "Epoch [4], Train Loss : [0.04759] Val Loss : [0.04652]\n"
     ]
    },
    {
     "name": "stderr",
     "output_type": "stream",
     "text": [
      "100% 175/175 [01:34<00:00,  1.86it/s]\n",
      "100% 44/44 [00:12<00:00,  3.52it/s]\n"
     ]
    },
    {
     "name": "stdout",
     "output_type": "stream",
     "text": [
      "Epoch [5], Train Loss : [0.04720] Val Loss : [0.04604]\n"
     ]
    },
    {
     "name": "stderr",
     "output_type": "stream",
     "text": [
      "100% 175/175 [01:34<00:00,  1.86it/s]\n",
      "100% 44/44 [00:12<00:00,  3.50it/s]\n"
     ]
    },
    {
     "name": "stdout",
     "output_type": "stream",
     "text": [
      "Epoch [6], Train Loss : [0.04694] Val Loss : [0.04607]\n"
     ]
    },
    {
     "name": "stderr",
     "output_type": "stream",
     "text": [
      "100% 175/175 [01:34<00:00,  1.86it/s]\n",
      "100% 44/44 [00:12<00:00,  3.54it/s]\n"
     ]
    },
    {
     "name": "stdout",
     "output_type": "stream",
     "text": [
      "Epoch [7], Train Loss : [0.04661] Val Loss : [0.04601]\n"
     ]
    },
    {
     "name": "stderr",
     "output_type": "stream",
     "text": [
      "100% 175/175 [01:33<00:00,  1.86it/s]\n",
      "100% 44/44 [00:12<00:00,  3.47it/s]\n"
     ]
    },
    {
     "name": "stdout",
     "output_type": "stream",
     "text": [
      "Epoch [8], Train Loss : [0.04646] Val Loss : [0.04588]\n"
     ]
    },
    {
     "name": "stderr",
     "output_type": "stream",
     "text": [
      "100% 175/175 [01:33<00:00,  1.86it/s]\n",
      "100% 44/44 [00:12<00:00,  3.53it/s]\n"
     ]
    },
    {
     "name": "stdout",
     "output_type": "stream",
     "text": [
      "Epoch [9], Train Loss : [0.04630] Val Loss : [0.04584]\n"
     ]
    },
    {
     "name": "stderr",
     "output_type": "stream",
     "text": [
      "100% 175/175 [01:33<00:00,  1.86it/s]\n",
      "100% 44/44 [00:12<00:00,  3.55it/s]\n",
      "[I 2024-11-22 16:42:57,806] Trial 7 finished with value: 0.045836862599985165 and parameters: {'learning_rate': 0.0019087322353562855}. Best is trial 1 with value: 0.045531538569114426.\n"
     ]
    },
    {
     "name": "stdout",
     "output_type": "stream",
     "text": [
      "Epoch [10], Train Loss : [0.04735] Val Loss : [5.11502]\n"
     ]
    },
    {
     "name": "stderr",
     "output_type": "stream",
     "text": [
      "100% 175/175 [01:33<00:00,  1.86it/s]\n",
      "100% 44/44 [00:12<00:00,  3.54it/s]\n"
     ]
    },
    {
     "name": "stdout",
     "output_type": "stream",
     "text": [
      "Epoch [1], Train Loss : [0.05929] Val Loss : [970.75610]\n"
     ]
    },
    {
     "name": "stderr",
     "output_type": "stream",
     "text": [
      "100% 175/175 [01:33<00:00,  1.86it/s]\n",
      "100% 44/44 [00:12<00:00,  3.54it/s]\n"
     ]
    },
    {
     "name": "stdout",
     "output_type": "stream",
     "text": [
      "Epoch [2], Train Loss : [0.04999] Val Loss : [0.05099]\n"
     ]
    },
    {
     "name": "stderr",
     "output_type": "stream",
     "text": [
      "100% 175/175 [01:33<00:00,  1.87it/s]\n",
      "100% 44/44 [00:12<00:00,  3.51it/s]\n"
     ]
    },
    {
     "name": "stdout",
     "output_type": "stream",
     "text": [
      "Epoch [3], Train Loss : [0.04888] Val Loss : [0.06989]\n"
     ]
    },
    {
     "name": "stderr",
     "output_type": "stream",
     "text": [
      "100% 175/175 [01:34<00:00,  1.86it/s]\n",
      "100% 44/44 [00:12<00:00,  3.52it/s]\n"
     ]
    },
    {
     "name": "stdout",
     "output_type": "stream",
     "text": [
      "Epoch [4], Train Loss : [0.04816] Val Loss : [0.04695]\n"
     ]
    },
    {
     "name": "stderr",
     "output_type": "stream",
     "text": [
      "100% 175/175 [01:34<00:00,  1.86it/s]\n",
      "100% 44/44 [00:12<00:00,  3.48it/s]\n"
     ]
    },
    {
     "name": "stdout",
     "output_type": "stream",
     "text": [
      "Epoch [5], Train Loss : [0.04808] Val Loss : [0.05215]\n"
     ]
    },
    {
     "name": "stderr",
     "output_type": "stream",
     "text": [
      "100% 175/175 [01:34<00:00,  1.86it/s]\n",
      "100% 44/44 [00:12<00:00,  3.51it/s]\n"
     ]
    },
    {
     "name": "stdout",
     "output_type": "stream",
     "text": [
      "Epoch [6], Train Loss : [0.04797] Val Loss : [0.05853]\n"
     ]
    },
    {
     "name": "stderr",
     "output_type": "stream",
     "text": [
      "100% 175/175 [01:33<00:00,  1.86it/s]\n",
      "100% 44/44 [00:12<00:00,  3.47it/s]\n"
     ]
    },
    {
     "name": "stdout",
     "output_type": "stream",
     "text": [
      "Epoch [7], Train Loss : [0.04927] Val Loss : [0.04671]\n"
     ]
    },
    {
     "name": "stderr",
     "output_type": "stream",
     "text": [
      "100% 175/175 [01:33<00:00,  1.86it/s]\n",
      "100% 44/44 [00:12<00:00,  3.49it/s]\n"
     ]
    },
    {
     "name": "stdout",
     "output_type": "stream",
     "text": [
      "Epoch [8], Train Loss : [0.04796] Val Loss : [0.04651]\n"
     ]
    },
    {
     "name": "stderr",
     "output_type": "stream",
     "text": [
      "100% 175/175 [01:33<00:00,  1.86it/s]\n",
      "100% 44/44 [00:12<00:00,  3.40it/s]\n"
     ]
    },
    {
     "name": "stdout",
     "output_type": "stream",
     "text": [
      "Epoch [9], Train Loss : [0.04769] Val Loss : [0.04638]\n"
     ]
    },
    {
     "name": "stderr",
     "output_type": "stream",
     "text": [
      "100% 175/175 [01:34<00:00,  1.86it/s]\n",
      "100% 44/44 [00:12<00:00,  3.54it/s]\n",
      "[I 2024-11-22 17:00:44,469] Trial 8 finished with value: 0.046376469121737915 and parameters: {'learning_rate': 0.0025825823378983754}. Best is trial 1 with value: 0.045531538569114426.\n"
     ]
    },
    {
     "name": "stdout",
     "output_type": "stream",
     "text": [
      "Epoch [10], Train Loss : [0.04749] Val Loss : [0.04641]\n"
     ]
    },
    {
     "name": "stderr",
     "output_type": "stream",
     "text": [
      "100% 175/175 [01:34<00:00,  1.85it/s]\n",
      "100% 44/44 [00:13<00:00,  3.36it/s]\n"
     ]
    },
    {
     "name": "stdout",
     "output_type": "stream",
     "text": [
      "Epoch [1], Train Loss : [0.06857] Val Loss : [0.04747]\n"
     ]
    },
    {
     "name": "stderr",
     "output_type": "stream",
     "text": [
      "100% 175/175 [01:34<00:00,  1.86it/s]\n",
      "100% 44/44 [00:12<00:00,  3.52it/s]\n"
     ]
    },
    {
     "name": "stdout",
     "output_type": "stream",
     "text": [
      "Epoch [2], Train Loss : [0.05101] Val Loss : [0.04672]\n"
     ]
    },
    {
     "name": "stderr",
     "output_type": "stream",
     "text": [
      "100% 175/175 [01:33<00:00,  1.86it/s]\n",
      "100% 44/44 [00:12<00:00,  3.52it/s]\n"
     ]
    },
    {
     "name": "stdout",
     "output_type": "stream",
     "text": [
      "Epoch [3], Train Loss : [0.04910] Val Loss : [0.04622]\n"
     ]
    },
    {
     "name": "stderr",
     "output_type": "stream",
     "text": [
      "100% 175/175 [01:34<00:00,  1.86it/s]\n",
      "100% 44/44 [00:12<00:00,  3.54it/s]\n"
     ]
    },
    {
     "name": "stdout",
     "output_type": "stream",
     "text": [
      "Epoch [4], Train Loss : [0.04807] Val Loss : [0.04606]\n"
     ]
    },
    {
     "name": "stderr",
     "output_type": "stream",
     "text": [
      "100% 175/175 [01:34<00:00,  1.86it/s]\n",
      "100% 44/44 [00:12<00:00,  3.53it/s]\n"
     ]
    },
    {
     "name": "stdout",
     "output_type": "stream",
     "text": [
      "Epoch [5], Train Loss : [0.04749] Val Loss : [0.04609]\n"
     ]
    },
    {
     "name": "stderr",
     "output_type": "stream",
     "text": [
      "100% 175/175 [01:34<00:00,  1.85it/s]\n",
      "100% 44/44 [00:12<00:00,  3.46it/s]\n"
     ]
    },
    {
     "name": "stdout",
     "output_type": "stream",
     "text": [
      "Epoch [6], Train Loss : [0.04691] Val Loss : [0.04600]\n"
     ]
    },
    {
     "name": "stderr",
     "output_type": "stream",
     "text": [
      "100% 175/175 [01:34<00:00,  1.86it/s]\n",
      "100% 44/44 [00:12<00:00,  3.52it/s]\n"
     ]
    },
    {
     "name": "stdout",
     "output_type": "stream",
     "text": [
      "Epoch [7], Train Loss : [0.04638] Val Loss : [0.04575]\n"
     ]
    },
    {
     "name": "stderr",
     "output_type": "stream",
     "text": [
      "100% 175/175 [01:33<00:00,  1.87it/s]\n",
      "100% 44/44 [00:12<00:00,  3.54it/s]\n"
     ]
    },
    {
     "name": "stdout",
     "output_type": "stream",
     "text": [
      "Epoch [8], Train Loss : [0.04595] Val Loss : [0.04585]\n"
     ]
    },
    {
     "name": "stderr",
     "output_type": "stream",
     "text": [
      "100% 175/175 [01:33<00:00,  1.86it/s]\n",
      "100% 44/44 [00:12<00:00,  3.44it/s]\n"
     ]
    },
    {
     "name": "stdout",
     "output_type": "stream",
     "text": [
      "Epoch [9], Train Loss : [0.04567] Val Loss : [0.04573]\n"
     ]
    },
    {
     "name": "stderr",
     "output_type": "stream",
     "text": [
      "100% 175/175 [01:33<00:00,  1.86it/s]\n",
      "100% 44/44 [00:12<00:00,  3.54it/s]\n",
      "[I 2024-11-22 17:18:32,273] Trial 9 finished with value: 0.045709737491878594 and parameters: {'learning_rate': 0.00018038970431611537}. Best is trial 1 with value: 0.045531538569114426.\n"
     ]
    },
    {
     "name": "stdout",
     "output_type": "stream",
     "text": [
      "Epoch [10], Train Loss : [0.04546] Val Loss : [0.04571]\n",
      "Best trial:\n",
      "  Value: 0.045531538569114426\n",
      "  Params: \n",
      "    learning_rate: 0.000762730617772347\n"
     ]
    }
   ],
   "source": [
    "# 최적의 하이퍼파라미터 찾기\n",
    "best_params = optimize_hyperparameters()\n",
    "\n",
    "# 최적의 하이퍼파라미터로 학습 실행\n",
    "CFG['LEARNING_RATE'] = best_params['learning_rate']\n",
    "CFG[\"EPOCHS\"] = 30"
   ]
  },
  {
   "cell_type": "markdown",
   "id": "yOSdyNsF_-i1",
   "metadata": {
    "id": "yOSdyNsF_-i1"
   },
   "source": [
    "## final_model"
   ]
  },
  {
   "cell_type": "code",
   "execution_count": 55,
   "id": "ccdffe3b",
   "metadata": {},
   "outputs": [],
   "source": [
    "CFG[\"EPOCHS\"] = 20"
   ]
  },
  {
   "cell_type": "code",
   "execution_count": 56,
   "id": "mcFTIHJe_AJ1",
   "metadata": {
    "id": "mcFTIHJe_AJ1"
   },
   "outputs": [],
   "source": [
    "train_loader = DataLoader(\n",
    "    train_dataset, batch_size=CFG['BATCH_SIZE'], shuffle=True, num_workers=0\n",
    ")\n",
    "val_loader = DataLoader(\n",
    "    val_dataset, batch_size=CFG['BATCH_SIZE'], shuffle=False, num_workers=0\n",
    ")"
   ]
  },
  {
   "cell_type": "code",
   "execution_count": 57,
   "id": "86142d9a-68b7-4d04-8423-49d28025411d",
   "metadata": {
    "id": "86142d9a-68b7-4d04-8423-49d28025411d",
    "tags": []
   },
   "outputs": [
    {
     "name": "stderr",
     "output_type": "stream",
     "text": [
      "100% 175/175 [01:32<00:00,  1.89it/s]\n",
      "100% 44/44 [00:12<00:00,  3.57it/s]\n"
     ]
    },
    {
     "name": "stdout",
     "output_type": "stream",
     "text": [
      "Epoch [1], Train Loss : [0.05526] Val Loss : [0.04698]\n"
     ]
    },
    {
     "name": "stderr",
     "output_type": "stream",
     "text": [
      "100% 175/175 [01:32<00:00,  1.89it/s]\n",
      "100% 44/44 [00:12<00:00,  3.56it/s]\n"
     ]
    },
    {
     "name": "stdout",
     "output_type": "stream",
     "text": [
      "Epoch [2], Train Loss : [0.04808] Val Loss : [0.04633]\n"
     ]
    },
    {
     "name": "stderr",
     "output_type": "stream",
     "text": [
      "100% 175/175 [01:32<00:00,  1.89it/s]\n",
      "100% 44/44 [00:12<00:00,  3.61it/s]\n"
     ]
    },
    {
     "name": "stdout",
     "output_type": "stream",
     "text": [
      "Epoch [3], Train Loss : [0.04794] Val Loss : [0.06051]\n"
     ]
    },
    {
     "name": "stderr",
     "output_type": "stream",
     "text": [
      "100% 175/175 [01:32<00:00,  1.89it/s]\n",
      "100% 44/44 [00:12<00:00,  3.60it/s]\n"
     ]
    },
    {
     "name": "stdout",
     "output_type": "stream",
     "text": [
      "Epoch [4], Train Loss : [0.04702] Val Loss : [0.05186]\n"
     ]
    },
    {
     "name": "stderr",
     "output_type": "stream",
     "text": [
      "100% 175/175 [01:32<00:00,  1.88it/s]\n",
      "100% 44/44 [00:12<00:00,  3.61it/s]\n"
     ]
    },
    {
     "name": "stdout",
     "output_type": "stream",
     "text": [
      "Epoch [5], Train Loss : [0.04670] Val Loss : [0.04635]\n",
      "Epoch 00005: reducing learning rate of group 0 to 3.8137e-04.\n"
     ]
    },
    {
     "name": "stderr",
     "output_type": "stream",
     "text": [
      "100% 175/175 [01:33<00:00,  1.88it/s]\n",
      "100% 44/44 [00:12<00:00,  3.59it/s]\n"
     ]
    },
    {
     "name": "stdout",
     "output_type": "stream",
     "text": [
      "Epoch [6], Train Loss : [0.04613] Val Loss : [0.04670]\n"
     ]
    },
    {
     "name": "stderr",
     "output_type": "stream",
     "text": [
      "100% 175/175 [01:32<00:00,  1.88it/s]\n",
      "100% 44/44 [00:12<00:00,  3.56it/s]\n"
     ]
    },
    {
     "name": "stdout",
     "output_type": "stream",
     "text": [
      "Epoch [7], Train Loss : [0.04586] Val Loss : [0.04678]\n"
     ]
    },
    {
     "name": "stderr",
     "output_type": "stream",
     "text": [
      "100% 175/175 [01:33<00:00,  1.88it/s]\n",
      "100% 44/44 [00:12<00:00,  3.56it/s]\n"
     ]
    },
    {
     "name": "stdout",
     "output_type": "stream",
     "text": [
      "Epoch [8], Train Loss : [0.04566] Val Loss : [0.04592]\n"
     ]
    },
    {
     "name": "stderr",
     "output_type": "stream",
     "text": [
      "100% 175/175 [01:32<00:00,  1.88it/s]\n",
      "100% 44/44 [00:12<00:00,  3.57it/s]\n"
     ]
    },
    {
     "name": "stdout",
     "output_type": "stream",
     "text": [
      "Epoch [9], Train Loss : [0.04546] Val Loss : [0.04688]\n"
     ]
    },
    {
     "name": "stderr",
     "output_type": "stream",
     "text": [
      "100% 175/175 [01:33<00:00,  1.88it/s]\n",
      "100% 44/44 [00:12<00:00,  3.57it/s]\n"
     ]
    },
    {
     "name": "stdout",
     "output_type": "stream",
     "text": [
      "Epoch [10], Train Loss : [0.04527] Val Loss : [0.04645]\n"
     ]
    },
    {
     "name": "stderr",
     "output_type": "stream",
     "text": [
      "100% 175/175 [01:33<00:00,  1.88it/s]\n",
      "100% 44/44 [00:12<00:00,  3.59it/s]\n"
     ]
    },
    {
     "name": "stdout",
     "output_type": "stream",
     "text": [
      "Epoch [11], Train Loss : [0.04514] Val Loss : [0.04583]\n",
      "Epoch 00011: reducing learning rate of group 0 to 1.9068e-04.\n"
     ]
    },
    {
     "name": "stderr",
     "output_type": "stream",
     "text": [
      "100% 175/175 [01:33<00:00,  1.87it/s]\n",
      "100% 44/44 [00:12<00:00,  3.51it/s]\n"
     ]
    },
    {
     "name": "stdout",
     "output_type": "stream",
     "text": [
      "Epoch [12], Train Loss : [0.04487] Val Loss : [0.04579]\n"
     ]
    },
    {
     "name": "stderr",
     "output_type": "stream",
     "text": [
      "100% 175/175 [01:33<00:00,  1.88it/s]\n",
      "100% 44/44 [00:12<00:00,  3.62it/s]\n"
     ]
    },
    {
     "name": "stdout",
     "output_type": "stream",
     "text": [
      "Epoch [13], Train Loss : [0.04475] Val Loss : [0.04579]\n"
     ]
    },
    {
     "name": "stderr",
     "output_type": "stream",
     "text": [
      "100% 175/175 [01:32<00:00,  1.89it/s]\n",
      "100% 44/44 [00:12<00:00,  3.57it/s]\n"
     ]
    },
    {
     "name": "stdout",
     "output_type": "stream",
     "text": [
      "Epoch [14], Train Loss : [0.04469] Val Loss : [0.04560]\n"
     ]
    },
    {
     "name": "stderr",
     "output_type": "stream",
     "text": [
      "100% 175/175 [01:33<00:00,  1.87it/s]\n",
      "100% 44/44 [00:12<00:00,  3.56it/s]\n"
     ]
    },
    {
     "name": "stdout",
     "output_type": "stream",
     "text": [
      "Epoch [15], Train Loss : [0.04464] Val Loss : [0.04568]\n"
     ]
    },
    {
     "name": "stderr",
     "output_type": "stream",
     "text": [
      "100% 175/175 [01:32<00:00,  1.88it/s]\n",
      "100% 44/44 [00:12<00:00,  3.60it/s]\n"
     ]
    },
    {
     "name": "stdout",
     "output_type": "stream",
     "text": [
      "Epoch [16], Train Loss : [0.04457] Val Loss : [0.04568]\n"
     ]
    },
    {
     "name": "stderr",
     "output_type": "stream",
     "text": [
      "100% 175/175 [01:33<00:00,  1.87it/s]\n",
      "100% 44/44 [00:12<00:00,  3.60it/s]\n"
     ]
    },
    {
     "name": "stdout",
     "output_type": "stream",
     "text": [
      "Epoch [17], Train Loss : [0.04456] Val Loss : [0.04554]\n",
      "Epoch 00017: reducing learning rate of group 0 to 9.5341e-05.\n"
     ]
    },
    {
     "name": "stderr",
     "output_type": "stream",
     "text": [
      "100% 175/175 [01:33<00:00,  1.88it/s]\n",
      "100% 44/44 [00:12<00:00,  3.60it/s]\n"
     ]
    },
    {
     "name": "stdout",
     "output_type": "stream",
     "text": [
      "Epoch [18], Train Loss : [0.04442] Val Loss : [0.04556]\n"
     ]
    },
    {
     "name": "stderr",
     "output_type": "stream",
     "text": [
      "100% 175/175 [01:33<00:00,  1.88it/s]\n",
      "100% 44/44 [00:12<00:00,  3.53it/s]\n"
     ]
    },
    {
     "name": "stdout",
     "output_type": "stream",
     "text": [
      "Epoch [19], Train Loss : [0.04434] Val Loss : [0.04548]\n"
     ]
    },
    {
     "name": "stderr",
     "output_type": "stream",
     "text": [
      "100% 175/175 [01:33<00:00,  1.87it/s]\n",
      "100% 44/44 [00:12<00:00,  3.58it/s]"
     ]
    },
    {
     "name": "stdout",
     "output_type": "stream",
     "text": [
      "Epoch [20], Train Loss : [0.04430] Val Loss : [0.04554]\n"
     ]
    },
    {
     "name": "stderr",
     "output_type": "stream",
     "text": [
      "\n"
     ]
    }
   ],
   "source": [
    "model = BaseModel()\n",
    "optimizer = torch.optim.Adam(params=model.parameters(), lr=CFG[\"LEARNING_RATE\"])\n",
    "scheduler = torch.optim.lr_scheduler.ReduceLROnPlateau(\n",
    "    optimizer, mode='min', factor=0.5, patience=2,\n",
    "    threshold_mode='abs', min_lr=1e-8, verbose=True\n",
    ")\n",
    "\n",
    "infer_model, history = train(model, optimizer, train_loader, val_loader, scheduler, device)"
   ]
  },
  {
   "cell_type": "markdown",
   "id": "e275a486-9c59-4b4e-80f6-5000e017b921",
   "metadata": {
    "id": "e275a486-9c59-4b4e-80f6-5000e017b921"
   },
   "source": [
    "## Inference"
   ]
  },
  {
   "cell_type": "code",
   "execution_count": 58,
   "id": "0ed16d0e-61ee-4737-b90a-3842860cc40a",
   "metadata": {
    "id": "0ed16d0e-61ee-4737-b90a-3842860cc40a"
   },
   "outputs": [],
   "source": [
    "test = pd.read_csv('./open2/test.csv')"
   ]
  },
  {
   "cell_type": "code",
   "execution_count": 59,
   "id": "a5901b81",
   "metadata": {
    "id": "a5901b81"
   },
   "outputs": [],
   "source": [
    "# 2. 테스트 데이터 경로 절대 경로로 변환\n",
    "test['path'] = base_path + test['path'].astype(str)\n",
    "\n",
    "# 3. 테스트 데이터셋과 데이터 로더 생성\n",
    "test_dataset = CustomDataset(test['path'].values, None, test_transform)\n",
    "test_loader = DataLoader(test_dataset, batch_size=CFG['BATCH_SIZE'], shuffle=False, num_workers=0)\n"
   ]
  },
  {
   "cell_type": "code",
   "execution_count": 60,
   "id": "dbbf9ae5-9d8c-4800-a809-63094a1e9a24",
   "metadata": {
    "id": "dbbf9ae5-9d8c-4800-a809-63094a1e9a24"
   },
   "outputs": [],
   "source": [
    "test_dataset = CustomDataset(test['path'].values, None, test_transform)\n",
    "test_loader = DataLoader(test_dataset, batch_size=CFG['BATCH_SIZE'], shuffle=False, num_workers=0)"
   ]
  },
  {
   "cell_type": "code",
   "execution_count": 61,
   "id": "378fd3a9-76d8-4c9a-81a1-c6a48492684c",
   "metadata": {
    "id": "378fd3a9-76d8-4c9a-81a1-c6a48492684c"
   },
   "outputs": [],
   "source": [
    "def inference(model, test_loader, device):\n",
    "    model.eval()\n",
    "    preds = []\n",
    "    with torch.no_grad():\n",
    "        for imgs in tqdm(test_loader):\n",
    "            imgs = imgs.to(device).float()\n",
    "            pred = model(imgs)\n",
    "\n",
    "            preds.append(pred.detach().cpu())\n",
    "\n",
    "    preds = torch.cat(preds).numpy()\n",
    "\n",
    "    return preds"
   ]
  },
  {
   "cell_type": "code",
   "execution_count": 62,
   "id": "2866935c-407d-4919-a58b-1f8feaa66a2a",
   "metadata": {
    "colab": {
     "base_uri": "https://localhost:8080/"
    },
    "id": "2866935c-407d-4919-a58b-1f8feaa66a2a",
    "outputId": "5bcdc091-6dd9-4c3e-d5b1-eac114f0d23b"
   },
   "outputs": [
    {
     "name": "stderr",
     "output_type": "stream",
     "text": [
      "100% 72/72 [00:20<00:00,  3.55it/s]\n"
     ]
    }
   ],
   "source": [
    "preds = inference(infer_model, test_loader, device)"
   ]
  },
  {
   "cell_type": "markdown",
   "id": "35be0d25-6a06-43bb-bca0-94eda2409a26",
   "metadata": {
    "id": "35be0d25-6a06-43bb-bca0-94eda2409a26"
   },
   "source": [
    "## Submission"
   ]
  },
  {
   "cell_type": "code",
   "execution_count": 63,
   "id": "fc864be2-c306-4ad0-aa97-1d5ab5ea9811",
   "metadata": {
    "id": "fc864be2-c306-4ad0-aa97-1d5ab5ea9811"
   },
   "outputs": [],
   "source": [
    "submit = pd.read_csv('./open2/sample_submission.csv')\n",
    "submit.iloc[:, 1:] = np.array(preds).astype(np.float32)\n",
    "submit.to_csv('./open2/inception- resnet- v2-ver4_tuning_20.csv', index=False)"
   ]
  },
  {
   "cell_type": "code",
   "execution_count": 64,
   "id": "WBij3LMl4_bQ",
   "metadata": {
    "id": "WBij3LMl4_bQ"
   },
   "outputs": [
    {
     "data": {
      "image/png": "[encoded data removed]",
      "text/plain": [
       "<Figure size 1000x500 with 1 Axes>"
      ]
     },
     "metadata": {},
     "output_type": "display_data"
    }
   ],
   "source": [
    "import matplotlib.pyplot as plt\n",
    "\n",
    "# 손실 그래프 시각화\n",
    "plt.figure(figsize=(10, 5))\n",
    "plt.plot(history['train_loss'], label='Train Loss')\n",
    "plt.plot(history['val_loss'], label='Validation Loss')\n",
    "plt.xlabel('Epochs')\n",
    "plt.ylabel('Loss')\n",
    "plt.title('Train and Validation Loss')\n",
    "plt.legend()\n",
    "plt.grid()\n",
    "plt.show()\n"
   ]
  },
  {
   "cell_type": "code",
   "execution_count": null,
   "id": "7f01cee0",
   "metadata": {},
   "outputs": [],
   "source": []
  }
 ],
 "metadata": {
  "accelerator": "GPU",
  "colab": {
   "collapsed_sections": [
    "05a4172e-5791-446f-9616-35c09d8bf25a",
    "ac27ed36-8031-47a7-bd0d-a913513f2e8e",
    "39962463-032f-490a-a76d-c03991795f38",
    "122af0aa-a1fd-4595-9488-35761e3cb596"
   ],
   "gpuType": "A100",
   "machine_shape": "hm",
   "provenance": []
  },
  "kernelspec": {
   "display_name": "PyTorch 2.2 (NGC 23.11/Python 3.10) on Backend.AI",
   "language": "python",
   "name": "python3"
  },
  "language_info": {
   "codemirror_mode": {
    "name": "ipython",
    "version": 3
   },
   "file_extension": ".py",
   "mimetype": "text/x-python",
   "name": "python",
   "nbconvert_exporter": "python",
   "pygments_lexer": "ipython3",
   "version": "3.10.12"
  },
  "widgets": {
   "application/vnd.jupyter.widget-state+json": {
    "0080d80b5170496987dc08a744013d8f": {
     "model_module": "@jupyter-widgets/controls",
     "model_module_version": "1.5.0",
     "model_name": "FloatProgressModel",
     "state": {
      "_dom_classes": [],
      "_model_module": "@jupyter-widgets/controls",
      "_model_module_version": "1.5.0",
      "_model_name": "FloatProgressModel",
      "_view_count": null,
      "_view_module": "@jupyter-widgets/controls",
      "_view_module_version": "1.5.0",
      "_view_name": "ProgressView",
      "bar_style": "success",
      "description": "",
      "description_tooltip": null,
      "layout": "IPY_MODEL_45f9a669a3454d389cf18be91707ec00",
      "max": 223748230,
      "min": 0,
      "orientation": "horizontal",
      "style": "IPY_MODEL_79f7346138574fb79e5d3106dba89b38",
      "value": 223748230
     }
    },
    "0a6d611edfdc47298c856d40421af7f9": {
     "model_module": "@jupyter-widgets/controls",
     "model_module_version": "1.5.0",
     "model_name": "DescriptionStyleModel",
     "state": {
      "_model_module": "@jupyter-widgets/controls",
      "_model_module_version": "1.5.0",
      "_model_name": "DescriptionStyleModel",
      "_view_count": null,
      "_view_module": "@jupyter-widgets/base",
      "_view_module_version": "1.2.0",
      "_view_name": "StyleView",
      "description_width": ""
     }
    },
    "2f007c979b8643539d7936400dead76b": {
     "model_module": "@jupyter-widgets/controls",
     "model_module_version": "1.5.0",
     "model_name": "DescriptionStyleModel",
     "state": {
      "_model_module": "@jupyter-widgets/controls",
      "_model_module_version": "1.5.0",
      "_model_name": "DescriptionStyleModel",
      "_view_count": null,
      "_view_module": "@jupyter-widgets/base",
      "_view_module_version": "1.2.0",
      "_view_name": "StyleView",
      "description_width": ""
     }
    },
    "3ffb752e4078495dac53812e4a2b854c": {
     "model_module": "@jupyter-widgets/controls",
     "model_module_version": "1.5.0",
     "model_name": "HTMLModel",
     "state": {
      "_dom_classes": [],
      "_model_module": "@jupyter-widgets/controls",
      "_model_module_version": "1.5.0",
      "_model_name": "HTMLModel",
      "_view_count": null,
      "_view_module": "@jupyter-widgets/controls",
      "_view_module_version": "1.5.0",
      "_view_name": "HTMLView",
      "description": "",
      "description_tooltip": null,
      "layout": "IPY_MODEL_7a6496d917c044ee8e7f158b1c9f2217",
      "placeholder": "​",
      "style": "IPY_MODEL_0a6d611edfdc47298c856d40421af7f9",
      "value": "model.safetensors: 100%"
     }
    },
    "45f9a669a3454d389cf18be91707ec00": {
     "model_module": "@jupyter-widgets/base",
     "model_module_version": "1.2.0",
     "model_name": "LayoutModel",
     "state": {
      "_model_module": "@jupyter-widgets/base",
      "_model_module_version": "1.2.0",
      "_model_name": "LayoutModel",
      "_view_count": null,
      "_view_module": "@jupyter-widgets/base",
      "_view_module_version": "1.2.0",
      "_view_name": "LayoutView",
      "align_content": null,
      "align_items": null,
      "align_self": null,
      "border": null,
      "bottom": null,
      "display": null,
      "flex": null,
      "flex_flow": null,
      "grid_area": null,
      "grid_auto_columns": null,
      "grid_auto_flow": null,
      "grid_auto_rows": null,
      "grid_column": null,
      "grid_gap": null,
      "grid_row": null,
      "grid_template_areas": null,
      "grid_template_columns": null,
      "grid_template_rows": null,
      "height": null,
      "justify_content": null,
      "justify_items": null,
      "left": null,
      "margin": null,
      "max_height": null,
      "max_width": null,
      "min_height": null,
      "min_width": null,
      "object_fit": null,
      "object_position": null,
      "order": null,
      "overflow": null,
      "overflow_x": null,
      "overflow_y": null,
      "padding": null,
      "right": null,
      "top": null,
      "visibility": null,
      "width": null
     }
    },
    "56ebcc5bea0b4206b84de19da2b3cbd8": {
     "model_module": "@jupyter-widgets/base",
     "model_module_version": "1.2.0",
     "model_name": "LayoutModel",
     "state": {
      "_model_module": "@jupyter-widgets/base",
      "_model_module_version": "1.2.0",
      "_model_name": "LayoutModel",
      "_view_count": null,
      "_view_module": "@jupyter-widgets/base",
      "_view_module_version": "1.2.0",
      "_view_name": "LayoutView",
      "align_content": null,
      "align_items": null,
      "align_self": null,
      "border": null,
      "bottom": null,
      "display": null,
      "flex": null,
      "flex_flow": null,
      "grid_area": null,
      "grid_auto_columns": null,
      "grid_auto_flow": null,
      "grid_auto_rows": null,
      "grid_column": null,
      "grid_gap": null,
      "grid_row": null,
      "grid_template_areas": null,
      "grid_template_columns": null,
      "grid_template_rows": null,
      "height": null,
      "justify_content": null,
      "justify_items": null,
      "left": null,
      "margin": null,
      "max_height": null,
      "max_width": null,
      "min_height": null,
      "min_width": null,
      "object_fit": null,
      "object_position": null,
      "order": null,
      "overflow": null,
      "overflow_x": null,
      "overflow_y": null,
      "padding": null,
      "right": null,
      "top": null,
      "visibility": null,
      "width": null
     }
    },
    "79f7346138574fb79e5d3106dba89b38": {
     "model_module": "@jupyter-widgets/controls",
     "model_module_version": "1.5.0",
     "model_name": "ProgressStyleModel",
     "state": {
      "_model_module": "@jupyter-widgets/controls",
      "_model_module_version": "1.5.0",
      "_model_name": "ProgressStyleModel",
      "_view_count": null,
      "_view_module": "@jupyter-widgets/base",
      "_view_module_version": "1.2.0",
      "_view_name": "StyleView",
      "bar_color": null,
      "description_width": ""
     }
    },
    "7a6496d917c044ee8e7f158b1c9f2217": {
     "model_module": "@jupyter-widgets/base",
     "model_module_version": "1.2.0",
     "model_name": "LayoutModel",
     "state": {
      "_model_module": "@jupyter-widgets/base",
      "_model_module_version": "1.2.0",
      "_model_name": "LayoutModel",
      "_view_count": null,
      "_view_module": "@jupyter-widgets/base",
      "_view_module_version": "1.2.0",
      "_view_name": "LayoutView",
      "align_content": null,
      "align_items": null,
      "align_self": null,
      "border": null,
      "bottom": null,
      "display": null,
      "flex": null,
      "flex_flow": null,
      "grid_area": null,
      "grid_auto_columns": null,
      "grid_auto_flow": null,
      "grid_auto_rows": null,
      "grid_column": null,
      "grid_gap": null,
      "grid_row": null,
      "grid_template_areas": null,
      "grid_template_columns": null,
      "grid_template_rows": null,
      "height": null,
      "justify_content": null,
      "justify_items": null,
      "left": null,
      "margin": null,
      "max_height": null,
      "max_width": null,
      "min_height": null,
      "min_width": null,
      "object_fit": null,
      "object_position": null,
      "order": null,
      "overflow": null,
      "overflow_x": null,
      "overflow_y": null,
      "padding": null,
      "right": null,
      "top": null,
      "visibility": null,
      "width": null
     }
    },
    "8571e5f75d1f496ab17bc587094e3efd": {
     "model_module": "@jupyter-widgets/controls",
     "model_module_version": "1.5.0",
     "model_name": "HTMLModel",
     "state": {
      "_dom_classes": [],
      "_model_module": "@jupyter-widgets/controls",
      "_model_module_version": "1.5.0",
      "_model_name": "HTMLModel",
      "_view_count": null,
      "_view_module": "@jupyter-widgets/controls",
      "_view_module_version": "1.5.0",
      "_view_name": "HTMLView",
      "description": "",
      "description_tooltip": null,
      "layout": "IPY_MODEL_56ebcc5bea0b4206b84de19da2b3cbd8",
      "placeholder": "​",
      "style": "IPY_MODEL_2f007c979b8643539d7936400dead76b",
      "value": " 224M/224M [00:10&lt;00:00, 22.7MB/s]"
     }
    },
    "91d6e38b573f490ebdfd44fa6509d1a3": {
     "model_module": "@jupyter-widgets/controls",
     "model_module_version": "1.5.0",
     "model_name": "HBoxModel",
     "state": {
      "_dom_classes": [],
      "_model_module": "@jupyter-widgets/controls",
      "_model_module_version": "1.5.0",
      "_model_name": "HBoxModel",
      "_view_count": null,
      "_view_module": "@jupyter-widgets/controls",
      "_view_module_version": "1.5.0",
      "_view_name": "HBoxView",
      "box_style": "",
      "children": [
       "IPY_MODEL_3ffb752e4078495dac53812e4a2b854c",
       "IPY_MODEL_0080d80b5170496987dc08a744013d8f",
       "IPY_MODEL_8571e5f75d1f496ab17bc587094e3efd"
      ],
      "layout": "IPY_MODEL_f2b07285924945e88d31ea8f75d02415"
     }
    },
    "f2b07285924945e88d31ea8f75d02415": {
     "model_module": "@jupyter-widgets/base",
     "model_module_version": "1.2.0",
     "model_name": "LayoutModel",
     "state": {
      "_model_module": "@jupyter-widgets/base",
      "_model_module_version": "1.2.0",
      "_model_name": "LayoutModel",
      "_view_count": null,
      "_view_module": "@jupyter-widgets/base",
      "_view_module_version": "1.2.0",
      "_view_name": "LayoutView",
      "align_content": null,
      "align_items": null,
      "align_self": null,
      "border": null,
      "bottom": null,
      "display": null,
      "flex": null,
      "flex_flow": null,
      "grid_area": null,
      "grid_auto_columns": null,
      "grid_auto_flow": null,
      "grid_auto_rows": null,
      "grid_column": null,
      "grid_gap": null,
      "grid_row": null,
      "grid_template_areas": null,
      "grid_template_columns": null,
      "grid_template_rows": null,
      "height": null,
      "justify_content": null,
      "justify_items": null,
      "left": null,
      "margin": null,
      "max_height": null,
      "max_width": null,
      "min_height": null,
      "min_width": null,
      "object_fit": null,
      "object_position": null,
      "order": null,
      "overflow": null,
      "overflow_x": null,
      "overflow_y": null,
      "padding": null,
      "right": null,
      "top": null,
      "visibility": null,
      "width": null
     }
    }
   }
  }
 },
 "nbformat": 4,
 "nbformat_minor": 5
}
